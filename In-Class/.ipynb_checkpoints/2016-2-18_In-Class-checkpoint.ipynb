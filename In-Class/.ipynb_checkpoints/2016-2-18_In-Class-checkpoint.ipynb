{
 "cells": [
  {
   "cell_type": "code",
   "execution_count": 1,
   "metadata": {
    "collapsed": false
   },
   "outputs": [
    {
     "name": "stdout",
     "output_type": "stream",
     "text": [
      "<class 'bs4.BeautifulSoup'>\n"
     ]
    },
    {
     "name": "stderr",
     "output_type": "stream",
     "text": [
      "C:\\Anaconda2\\lib\\site-packages\\bs4\\__init__.py:166: UserWarning: No parser was explicitly specified, so I'm using the best available HTML parser for this system (\"lxml\"). This usually isn't a problem, but if you run this code on another system, or in a different virtual environment, it may use a different parser and behave differently.\n",
      "\n",
      "To get rid of this warning, change this:\n",
      "\n",
      " BeautifulSoup([your markup])\n",
      "\n",
      "to this:\n",
      "\n",
      " BeautifulSoup([your markup], \"lxml\")\n",
      "\n",
      "  markup_type=markup_type))\n"
     ]
    }
   ],
   "source": [
    "# BeautifulSoup is a module that helps with working with HTML files\n",
    "from bs4 import BeautifulSoup\n",
    "import urllib as ul\n",
    "# This uses the 'urllib' function (reassigned as ul) to access a webpage, and then read it into 'r' as a list\n",
    "r = ul.urlopen('http://www.aflcio.org/Legislation-and-Politics/Legislative-Alerts').read()\n",
    "soup = BeautifulSoup(r)\n",
    "print type(soup)"
   ]
  },
  {
   "cell_type": "code",
   "execution_count": 2,
   "metadata": {
    "collapsed": false
   },
   "outputs": [
    {
     "data": {
      "text/plain": [
       "u'<!DOCTYPE html>\\n<html class=\"no-js\" lang=\"en-US\" xml:lang=\"en-US\" xmlns=\"http://www.w3.org/1999/xhtml\" xmlns:fb=\"http://ogp.me/ns/fb#\">\\n <head>\\n  <title>\\n   Legislative Alerts\\n  </title>\\n  <meta content=\"text/html; charset=utf-8\" name=\"Content-Type\"/>\\n  <meta content=\"en-US\" name=\"Content-language\"/>\\n  <meta content=\"\" name=\"author\"/>\\n  <meta content=\"\" name=\"copyright\"/>\\n  <meta content=\"\" name=\"description\"/>\\n  <meta content=\"\" name=\"keywords\"/>\\n  <meta content=\"TRUE\" name=\"MSSmartTagsPreventParsing\"/>\\n  <meta content=\"eZ Publish\" name=\"generator\"/>\\n  <meta content=\"Legislative Alerts\" property=\"og:title\"/>\\n  <meta content=\"http://www.aflcio.org/Legislation-and-Politics/Legislative-Alerts\" property=\"og:url\"/>\\n  <meta content=\"AFL-CIO\" property=\"og:site_name\"/>\\n  <meta content=\"http://www.aflcio.org/extension/aflcio/design/aflcio_user/images/facebook_aflcio_200x200.jpg\" property=\"og:image\"/>\\n  <meta content=\"non_profit\" property=\"og:type\"/>\\n  <meta content=\"288636237825618\" property=\"fb:app_id\"/>\\n  <meta content=\"Visit the AFL-CIO for the latest updates, including news, videos and information on how you take action and get involved in your community.\" property=\"og:description\"/>\\n  <link href=\"/\" rel=\"Home\" title=\"AFL-CIO front page\"/>\\n  <link href=\"/\" rel=\"Index\"/>\\n  <link href=\"/\" rel=\"Top\" title=\"\\tLegislative Alerts\\t\"/>\\n  <link href=\"/content/advancedsearch\" rel=\"Search\" title=\"Search AFL-CIO\"/>\\n  <link href=\"/extension/aflcio/design/aflcio_user/images/favicon.ico\" rel=\"Shortcut icon\" type=\"image/x-icon\"/>\\n  <link href=\"/ezinfo/copyright\" rel=\"Copyright\"/>\\n  <link href=\"/ezinfo/about\" rel=\"Author\"/>\\n  <script src=\"/extension/aflcio/design/aflcio_user/javascript/libs/modernizr-2.0.6.min.js\">\\n  </script>\\n  <script src=\"//cdn.optimizely.com/js/167440347.js\">\\n  </script>\\n  <script src=\"/extension/aflcio/design/aflcio_user/javascript/jquery-1.8.3.min.js\">\\n  </script>\\n  <link href=\"/var/ezflow_site/cache/public/stylesheets/ff286538b6fee0d729f3bf965568bde4_all.css\" rel=\"stylesheet\" type=\"text/css\"/>\\n  <link href=\"/var/storage/packages/eZ-systems/ezflow_design/files/default/file/classes-colors.css\" rel=\"stylesheet\" type=\"text/css\"/>\\n  <link href=\"/var/storage/packages/eZ-systems/ezflow_design/files/default/file/site-colors.css\" rel=\"stylesheet\" type=\"text/css\"/>\\n  <link href=\"/extension/aflcio/design/aflcio_user/stylesheets/print.css\" media=\"print\" rel=\"stylesheet\" type=\"text/css\"/>\\n  <!-- IE conditional comments; for bug fixes for different IE versions -->\\n  <!--[if IE 5]>     <style type=\"text/css\"> @import url(/extension/ezflow/design/ezflow/stylesheets/browsers/ie5.css);    </style> <![endif]-->\\n  <!--[if lte IE 7]> <style type=\"text/css\"> @import url(/extension/ezflow/design/ezflow/stylesheets/browsers/ie7lte.css); </style> <![endif]-->\\n  <!--[if IE]><link href=\"/extension/aflcio/design/aflcio_user/stylesheets/ie.css\" rel=\"stylesheet\"  media=\"all\" /><![endif]-->\\n  <!--[if IE 7]><link href=\"/extension/aflcio/design/aflcio_user/stylesheets/ie7.css\" rel=\"stylesheet\" media=\"all\" /><![endif]-->\\n  <!--[if IE 8]><link href=\"/extension/aflcio/design/aflcio_user/stylesheets/ie8.css\" rel=\"stylesheet\" media=\"all\" /><![endif]-->\\n  <!-- <link href=\"/extension/aflcio/design/aflcio_user/stylesheets/print.css\" rel=\"stylesheet\" media=\"print\" /> print already called TDA -->\\n  <link href=\"/extension/aflcio/design/aflcio_user/stylesheets/superfish.css\" media=\"screen\" rel=\"stylesheet\"/>\\n  <!--Analytics script starts here-->\\n  <script src=\"/extension/aflcio/design/aflcio_user/javascript/ga_link_tracker_async.js\" type=\"text/javascript\">\\n  </script>\\n  <script type=\"text/javascript\">\\n   var _gaq = _gaq || [];\\n\\t\\t\\t\\n\\t\\t\\t\\t// Use correct UA code \\n\\t\\t\\t_gaq.push([\\'_setAccount\\', \\'UA-762017-26\\']);\\n\\t\\t\\t\\n\\t\\t\\t\\t// Decide how to track. (These are not mutually exclusive.)\\n\\t\\t\\tvar trackEvents = true;\\n\\t\\t\\tvar trackPageViews = false;\\n\\t\\t\\t\\n\\t\\t\\t\\t// regular expressions matching the domain, make sure to list them from most specific to least specific        \\n\\t\\t\\tvar trackedDomains = [\\n\\t\\t\\t\\t/^https?:\\\\/\\\\/([\\\\w_\\\\.-]*aflcio\\\\.org)\\\\/?/\\t\\t\\n\\t\\t\\t\\t,/^https?:\\\\/\\\\/([\\\\w_\\\\.-]*workingamerica\\\\.org)\\\\/?/\\n\\t\\t\\t];\\n\\t\\t\\t\\n\\t\\t\\t\\t// End configuration\\n\\t\\t\\tbf.onLoad(bf.ga.trackLinks, null, trackedDomains, trackEvents, trackPageViews);\\n\\t\\t\\tbf.ga.configureGA();\\n\\t\\t\\t_gaq.push([\\'_trackPageview\\']);\\n\\t\\t\\t\\n\\t\\t\\t(function() {\\t\\t\\tvar ga = document.createElement(\\'script\\'); ga.type = \\'text/javascript\\'; ga.async = true;\\n\\t\\t\\tga.src = (\\'https:\\' == document.location.protocol ? \\'https://ssl\\' : \\'http://www\\') + \\'.google-analytics.com/ga.js\\';\\n\\t\\t\\tvar s = document.getElementsByTagName(\\'script\\')[0]; s.parentNode.insertBefore(ga, s);\\n\\t\\t\\t})();\\n  </script>\\n  <!--Analytics Script ends here-->\\n  <!-- socialize.js script should only be included once -->\\n  <script src=\"http://cdn.gigya.com/js/socialize.js?apiKey=3_r1X_eOIeNvDJ0FP54KgtsdZlBYyMc4m09k7FbEctrF0gKZOMIXWlsnHwMIQJpgzn\" type=\"text/javascript\">\\n   {\\n\\tsiteName: \\'aflcio.org (Default site)\\'\\n\\t,enabledProviders: \\'googleplus,facebook,twitter,linkedin,messenger,aol\\'\\n// Global configuration object for Gigya JS API methods not sure we need this!\\n//\\t,sessionExpiration:0 // expire the user login session when the browser closes\\n//\\t,connectWithoutLoginBehavior: \\'alwaysLogin\\' // This will cause Gigya\\'s \\'Adding Connection\\' operation (i.e. when the user clicks one of the social network buttons within the Social Plugins) \\n\\t\\t\\t\\t\\t\\t\\t\\t\\t\\t\\t\\t// to behave like a call to login in case the current user is not logged in.\\n//\\t,autoShareExpiration: expire5min // User\\'s auto-share selection will expire after 5 min\\n//\\t,facebookInitParams: {\"cookie\":true, \"status\":true, \"xfbml\":true, \"oauth\":true} // Facebook init for Graph Actions\\n\\t,deviceType: \\'auto\\' // Automatically identify the device mobile/desktop (using user-agent) and optimize the view of the plugins accordingly\\n\\t}\\n  </script>\\n </head>\\n <body class=\"ui-navigation\" id=\"node-196\">\\n  <div id=\"fb-root\">\\n  </div>\\n  <script>\\n   (function(d, s, id) {\\n  var js, fjs = d.getElementsByTagName(s)[0];\\n  if (d.getElementById(id)) {return;}\\n  js = d.createElement(s); js.id = id;\\n  js.src = \"//connect.facebook.net/en_US/all.js#xfbml=1&appId=288636237825618\";\\n  fjs.parentNode.insertBefore(js, fjs);\\n}(document, \\'script\\', \\'facebook-jssdk\\'));\\n  </script>\\n  <div id=\"ada508\">\\n   <strong>\\n    Shortcut Navigation:\\n   </strong>\\n   <ul>\\n    <li>\\n     <a accesskey=\"p\" href=\"#content\" title=\"Skip to page content\">\\n      Page Content\\n     </a>\\n    </li>\\n    <li>\\n     <a accesskey=\"n\" href=\"#topNav\" title=\"Skip to main navigation menu\">\\n      Site Navigation\\n     </a>\\n    </li>\\n    <li>\\n     <a accesskey=\"s\" href=\"#search\" title=\"Skip to search\">\\n      Search\\n     </a>\\n    </li>\\n    <li>\\n     <a accesskey=\"f\" href=\"#footer\" title=\"Skip to footer (ctrl/alt + f)\">\\n      Footer\\n     </a>\\n    </li>\\n   </ul>\\n  </div>\\n  <!-- #ada508 shortcuts -->\\n  <script charset=\"utf-8\" src=\"/var/ezflow_site/cache/public/javascript/ebef6ca4f608f7b97ddaf8ac4ebac562.js\" type=\"text/javascript\">\\n  </script>\\n  <style id=\"ezste-main-css\" type=\"text/css\">\\n   body\\n{\\n}\\n  </style>\\n  <div id=\"header\">\\n   <header>\\n    <h1 class=\"logo\">\\n     <a href=\"/\" title=\"\">\\n      <img alt=\"\" class=\"logo\" height=\"\" src=\"/extension/aflcio/design/aflcio_user/images/logo.png\" width=\"\"/>\\n     </a>\\n    </h1>\\n    <nav>\\n     <ul id=\"quickLinks\">\\n      <li class=\"view-listitem listitem-nav_itemqnav-action-center\">\\n       <a href=\"/Get-Involved/Action-Center\">\\n        Action Center\\n       </a>\\n       |\\n      </li>\\n      <li class=\"view-listitem listitem-nav_itemqnav-joinWorkingAmerica\">\\n       <a href=\"http://www.workingamerica.org/join/\">\\n        Join Working America\\n       </a>\\n       |\\n      </li>\\n      <li class=\"view-listitem listitem-nav_itemqnav-pressRoom\">\\n       <a href=\"/Press-Room\">\\n        Press Room\\n       </a>\\n       |\\n      </li>\\n      <li class=\"view-listitem listitem-nav_itemqnav-enEspanol\">\\n       <a href=\"/En-Espanol\">\\n        En Espa\\xf1ol\\n       </a>\\n      </li>\\n      <li>\\n       <form action=\"/content/search/\" id=\"siteSearch\" method=\"get\">\\n        <label for=\"keyword\">\\n         Search:\\n        </label>\\n        <input id=\"keyword\" name=\"SearchText\" title=\"Put phrases in quotes.\" type=\"text\"/>\\n        <input alt=\"search\" class=\"button\" src=\"/extension/aflcio/design/aflcio_user/images/icn-magnifier.png\" type=\"image\"/>\\n       </form>\\n      </li>\\n     </ul>\\n    </nav>\\n    <nav>\\n     <ul class=\"sf-menu\" id=\"mainNav\">\\n      <li class=\"tnav-getInvolved off\">\\n       <a href=\"/Get-Involved\">\\n        GET INVOLVED\\n       </a>\\n       <ul class=\"superPanel\">\\n        <li class=\"navGroup\">\\n         <ul>\\n          <li class=\"view-listitem listitem-action_center\">\\n           <a href=\"/Get-Involved/Action-Center\" title=\"Action Center\">\\n            Action Center\\n           </a>\\n          </li>\\n          <li class=\"view-listitem listitem-content_page\">\\n           <a href=\"/Get-Involved/Find-a-State-or-Local-AFL-CIO\" title=\"Find a State or Local AFL-CIO\">\\n            Find a State or Local AFL-CIO\\n           </a>\\n          </li>\\n          <li class=\"view-listitem listitem-content_page\">\\n           <a href=\"/Get-Involved/Join-Working-America\" title=\"Join Working America\">\\n            Join Working America\\n           </a>\\n          </li>\\n          <li class=\"view-listitem listitem-landing_page\">\\n           <a href=\"/Get-Involved/Young-Workers\" title=\"Young Workers\">\\n            Young Workers\\n           </a>\\n          </li>\\n          <li class=\"view-listitem listitem-content_page\">\\n           <a href=\"/Get-Involved/Become-a-Union-Organizer\" title=\"Become a Union Organizer\">\\n            Become a Union Organizer\\n           </a>\\n          </li>\\n          <li class=\"view-listitem listitem-content_page\">\\n           <a href=\"/Get-Involved/Union-Summer2\" title=\"Union Summer\">\\n            Union Summer\\n           </a>\\n          </li>\\n          <li class=\"view-listitem listitem-content_page\">\\n           <a href=\"/Get-Involved/Law-Student-Union-Summer\" title=\"Law Student Union Summer 2016\">\\n            Law Student Union Summer 2016\\n           </a>\\n          </li>\\n          <li class=\"view-listitem listitem-content_page\">\\n           <a href=\"/Get-Involved/The-Bonnie-Ladin-Union-Skills-Training-Program\" title=\"The Bonnie Ladin Union Skills Training Program\">\\n            The Bonnie Ladin Union Skills Training Program\\n           </a>\\n          </li>\\n          <li class=\"view-listitem listitem-content_page\">\\n           <a href=\"/Get-Involved/Buttons-and-Banners\" title=\"Buttons and Banners\">\\n            Buttons and Banners\\n           </a>\\n          </li>\\n          <li class=\"view-listitem listitem-content_page\">\\n           <a href=\"/Get-Involved/AFL-CIO-Endorsed-Boycotts\" title=\"AFL-CIO-Endorsed Boycotts\">\\n            AFL-CIO-Endorsed Boycotts\\n           </a>\\n          </li>\\n          <li class=\"view-listitem listitem-content_page\">\\n           <a href=\"/Get-Involved/Thank-a-Worker\" title=\"Thank a Worker\">\\n            Thank a Worker\\n           </a>\\n          </li>\\n          <li class=\"view-listitem listitem-content_page\">\\n           <a href=\"/Get-Involved/The-Union-Shop\" title=\"The Union Shop\">\\n            The Union Shop\\n           </a>\\n          </li>\\n         </ul>\\n        </li>\\n       </ul>\\n      </li>\\n      <li class=\"tnav-learnAboutUnions off\">\\n       <a href=\"/Learn-About-Unions\">\\n        LEARN ABOUT UNIONS\\n       </a>\\n       <ul class=\"superPanel\">\\n        <li class=\"navGroup\">\\n         <ul>\\n          <li class=\"view-listitem listitem-content_page\">\\n           <a href=\"/Learn-About-Unions/What-Unions-Do\" title=\"What Unions Do\">\\n            What Unions Do\\n           </a>\\n          </li>\\n          <li class=\"view-listitem listitem-content_page\">\\n           <a href=\"/Learn-About-Unions/atWork\" title=\"Our Values @Work\">\\n            Our Values @Work\\n           </a>\\n          </li>\\n          <li class=\"view-listitem listitem-content_page\">\\n           <a href=\"/Learn-About-Unions/How-to-Join-or-Form-a-Union\" title=\"How to Join or Form a Union\">\\n            How to Join or Form a Union\\n           </a>\\n          </li>\\n          <li class=\"view-listitem listitem-content_page\">\\n           <a href=\"/Learn-About-Unions/Collective-Bargaining\" title=\"Collective Bargaining\">\\n            Collective Bargaining\\n           </a>\\n          </li>\\n          <li class=\"view-listitem listitem-content_page\">\\n           <a href=\"/Learn-About-Unions/Training-and-Apprenticeships\" title=\"Training and Apprenticeships\">\\n            Training and Apprenticeships\\n           </a>\\n          </li>\\n          <li class=\"view-listitem listitem-content_page\">\\n           <a href=\"/Learn-About-Unions/Global-Labor-Movement\" title=\"Global Labor Movement\">\\n            Global Labor Movement\\n           </a>\\n          </li>\\n          <li class=\"view-listitem listitem-content_page\">\\n           <a href=\"/Learn-About-Unions/Faith-and-Labor\" title=\"Faith and Labor\">\\n            Faith and Labor\\n           </a>\\n          </li>\\n          <li class=\"view-listitem listitem-content_page\">\\n           <a href=\"/Learn-About-Unions/Member-Benefits\" title=\"Member Benefits\">\\n            Member Benefits\\n           </a>\\n          </li>\\n         </ul>\\n        </li>\\n       </ul>\\n      </li>\\n      <li class=\"tnav-issues off\">\\n       <a href=\"/Issues\">\\n        ISSUES\\n       </a>\\n       <ul class=\"superPanel\">\\n        <li class=\"navGroup\">\\n         <ul>\\n          <li class=\"view-listitem listitem-issue_landing\">\\n           <a href=\"/Issues/Jobs-and-Economy\" title=\"Jobs and Economy\">\\n            Jobs and Economy\\n           </a>\\n          </li>\\n          <li class=\"view-listitem listitem-issue_landing\">\\n           <a href=\"/Issues/Health-Care\" title=\"Health Care\">\\n            Health Care\\n           </a>\\n          </li>\\n          <li class=\"view-listitem listitem-issue_landing\">\\n           <a href=\"/Issues/Retirement-Security\" title=\"Retirement Security\">\\n            Retirement Security\\n           </a>\\n          </li>\\n          <li class=\"view-listitem listitem-issue_landing\">\\n           <a href=\"/Issues/Work-and-Family\" title=\"Work and Family\">\\n            Work and Family\\n           </a>\\n          </li>\\n          <li class=\"view-listitem listitem-issue_landing\">\\n           <a href=\"/Issues/Trade\" title=\"Trade\">\\n            Trade\\n           </a>\\n          </li>\\n          <li class=\"view-listitem listitem-issue_landing\">\\n           <a href=\"/Issues/education\" title=\"Education\">\\n            Education\\n           </a>\\n          </li>\\n          <li class=\"view-listitem listitem-issue_landing\">\\n           <a href=\"/Issues/Civil-and-Workplace-Rights\" title=\"Civil and Workplace Rights\">\\n            Civil and Workplace Rights\\n           </a>\\n          </li>\\n          <li class=\"view-listitem listitem-issue_landing\">\\n           <a href=\"/Issues/Immigration\" title=\"Immigration\">\\n            Immigration\\n           </a>\\n          </li>\\n          <li class=\"view-listitem listitem-issue_landing\">\\n           <a href=\"/Issues/Job-Safety\" title=\"Job Safety\">\\n            Job Safety\\n           </a>\\n          </li>\\n         </ul>\\n        </li>\\n       </ul>\\n      </li>\\n      <li class=\"tnav-legislationPolitics on\">\\n       <a href=\"/Legislation-and-Politics\">\\n        LEGISLATION &amp; POLITICS\\n       </a>\\n       <ul class=\"superPanel\">\\n        <li class=\"navGroup\">\\n         <ul>\\n          <li class=\"view-listitem listitem-content_page\">\\n           <a href=\"/Legislation-and-Politics/My-Vote-My-Right\" title=\"My Vote My Right\">\\n            My Vote My Right\\n           </a>\\n          </li>\\n          <li class=\"view-listitem listitem-content_page\">\\n           <a href=\"/Legislation-and-Politics/State-Legislative-Battles\" title=\"State Legislative Battles\">\\n            State Legislative Battles\\n           </a>\\n          </li>\\n          <li class=\"view-listitem listitem-content_page\">\\n           <a href=\"/Legislation-and-Politics/This-Week-in-Congress\" title=\"This Week in Congress\">\\n            This Week in Congress\\n           </a>\\n          </li>\\n          <li class=\"view-listitem listitem-content_page\">\\n           <a href=\"/Legislation-and-Politics/Legislative-Voting-Records\" title=\"Legislative Voting Records\">\\n            Legislative Voting Records\\n           </a>\\n          </li>\\n          <li class=\"view-listitem listitem-listing_page\">\\n           <a href=\"/Legislation-and-Politics/Legislative-Alerts\" title=\"Legislative Alerts\">\\n            Legislative Alerts\\n           </a>\\n          </li>\\n          <li class=\"view-listitem listitem-content_page\">\\n           <a href=\"/Legislation-and-Politics/Legislative-Handbook\" title=\"Legislative Handbook\">\\n            Legislative Handbook\\n           </a>\\n          </li>\\n          <li class=\"view-listitem listitem-listing_page\">\\n           <a href=\"/Legislation-and-Politics/Testimonies\" title=\"Testimonies\">\\n            Testimonies\\n           </a>\\n          </li>\\n         </ul>\\n        </li>\\n       </ul>\\n      </li>\\n      <li class=\"tnav-corporateWatch off\">\\n       <a href=\"/Corporate-Watch\">\\n        CORPORATE WATCH\\n       </a>\\n       <ul class=\"superPanel\">\\n        <li class=\"navGroup\">\\n         <ul>\\n          <li class=\"view-listitem listitem-content_page\">\\n           <a href=\"/Corporate-Watch/Paywatch-2015\" title=\"Executive Paywatch\">\\n            Executive Paywatch\\n           </a>\\n          </li>\\n          <li class=\"view-listitem listitem-content_page\">\\n           <a href=\"/Corporate-Watch/Government-Service-Golden-Parachutes\" title=\"Government Service Golden Parachutes\">\\n            Government Service Golden Parachutes\\n           </a>\\n          </li>\\n          <li class=\"view-listitem listitem-content_page\">\\n           <a href=\"/Corporate-Watch/Why-Shareholder-Reforms-Are-Vital-for-All-Working-People\" title=\"Why Shareholder Reforms Are Vital for All Working People\">\\n            Why Shareholder Reforms Are Vital for All Working People\\n           </a>\\n          </li>\\n          <li class=\"view-listitem listitem-content_page\">\\n           <a href=\"/Corporate-Watch/Capital-Stewardship\" title=\"Capital Stewardship\">\\n            Capital Stewardship\\n           </a>\\n          </li>\\n          <li class=\"view-listitem listitem-content_page\">\\n           <a href=\"/Corporate-Watch/Avoiding-Their-Fair-Share-of-Taxes\" title=\"Avoiding Their Fair Share of Taxes\">\\n            Avoiding Their Fair Share of Taxes\\n           </a>\\n          </li>\\n          <li class=\"view-listitem listitem-content_page\">\\n           <a href=\"/Corporate-Watch/Research-Resources\" title=\"Research Resources\">\\n            Research Resources\\n           </a>\\n          </li>\\n         </ul>\\n        </li>\\n       </ul>\\n      </li>\\n      <li class=\"tnav-aboutAFLCIO off\">\\n       <a href=\"/About\">\\n        ABOUT AFL-CIO\\n       </a>\\n       <ul class=\"superPanel\">\\n        <li class=\"navGroup\">\\n         <ul>\\n          <li class=\"view-listitem listitem-content_page\">\\n           <a href=\"/About/Our-Mission-and-Vision\" title=\"Our Mission and Vision\">\\n            Our Mission and Vision\\n           </a>\\n          </li>\\n          <li class=\"view-listitem listitem-content_page\">\\n           <a href=\"/About/Find-a-State-or-Local-AFL-CIO\" title=\"Find a State or Local AFL-CIO\">\\n            Find a State or Local AFL-CIO\\n           </a>\\n          </li>\\n          <li class=\"view-listitem listitem-content_page\">\\n           <a href=\"/About/Digital-Strategies-Trainings\" title=\"Digital Strategies Trainings\">\\n            Digital Strategies Trainings\\n           </a>\\n          </li>\\n          <li class=\"view-listitem listitem-content_page\">\\n           <a href=\"/About/What-the-AFL-CIO-Does\" title=\"What the AFL-CIO Does\">\\n            What the AFL-CIO Does\\n           </a>\\n          </li>\\n          <li class=\"view-listitem listitem-content_page\">\\n           <a href=\"/About/Leadership\" title=\"Leadership\">\\n            Leadership\\n           </a>\\n          </li>\\n          <li class=\"view-listitem listitem-content_page\">\\n           <a href=\"/About/AFL-CIO-Unions\" title=\"AFL-CIO Unions\">\\n            AFL-CIO Unions\\n           </a>\\n          </li>\\n          <li class=\"view-listitem listitem-content_page\">\\n           <a href=\"/About/Common-Sense-Economics\" title=\"Common Sense Economics\">\\n            Common Sense Economics\\n           </a>\\n          </li>\\n          <li class=\"view-listitem listitem-content_page\">\\n           <a href=\"/About/Community-Services\" title=\"Community Services\">\\n            Community Services\\n           </a>\\n          </li>\\n          <li class=\"view-listitem listitem-content_page\">\\n           <a href=\"/About/Worker-Center-Partnerships\" title=\"Worker Center Partnerships\">\\n            Worker Center Partnerships\\n           </a>\\n          </li>\\n          <li class=\"view-listitem listitem-content_page\">\\n           <a href=\"/About/Allied-Organizations\" title=\"Allied Organizations\">\\n            Allied Organizations\\n           </a>\\n          </li>\\n          <li class=\"view-listitem listitem-content_page\">\\n           <a href=\"/About/Global-Unions\" title=\"Global Unions\">\\n            Global Unions\\n           </a>\\n          </li>\\n          <li class=\"view-listitem listitem-landing_page\">\\n           <a href=\"/About/Our-History\" title=\"Our History\">\\n            Our History\\n           </a>\\n          </li>\\n          <li class=\"view-listitem listitem-landing_page\">\\n           <a href=\"/About/Exec-Council\" title=\"Executive Council and Conventions\">\\n            Executive Council and Conventions\\n           </a>\\n          </li>\\n          <li class=\"view-listitem listitem-content_page\">\\n           <a href=\"/About/Member-Benefits\" title=\"Member Benefits\">\\n            Member Benefits\\n           </a>\\n          </li>\\n          <li class=\"view-listitem listitem-content_page\">\\n           <a href=\"/About/Jobs-at-the-AFL-CIO\" title=\"Jobs at the AFL-CIO\">\\n            Jobs at the AFL-CIO\\n           </a>\\n          </li>\\n         </ul>\\n        </li>\\n       </ul>\\n      </li>\\n      <li class=\"tnav-aflcioNowBlog off\">\\n       <a href=\"/Blog\">\\n        AFL-CIO NOW BLOG\\n       </a>\\n       <ul class=\"superPanel\">\\n        <li class=\"navGroup\">\\n         <ul>\\n          <li class=\"view-listitem listitem-blog_channel\">\\n           <a href=\"/Blog/Economy\" title=\"Economy\">\\n            Economy\\n           </a>\\n          </li>\\n          <li class=\"view-listitem listitem-blog_channel\">\\n           <a href=\"/Blog/Community-Services\" title=\"Community Services\">\\n            Community Services\\n           </a>\\n          </li>\\n          <li class=\"view-listitem listitem-blog_channel\">\\n           <a href=\"/Blog/In-The-States\" title=\"In The States\">\\n            In The States\\n           </a>\\n          </li>\\n          <li class=\"view-listitem listitem-blog_channel\">\\n           <a href=\"/Blog/Organizing-Bargaining\" title=\"Organizing/Bargaining\">\\n            Organizing/Bargaining\\n           </a>\\n          </li>\\n          <li class=\"view-listitem listitem-blog_channel\">\\n           <a href=\"/Blog/Political-Action-Legislation\" title=\"Political Action/Legislation\">\\n            Political Action/Legislation\\n           </a>\\n          </li>\\n          <li class=\"view-listitem listitem-blog_channel\">\\n           <a href=\"/Blog/Training\" title=\"Training and Apprenticeships\">\\n            Training and Apprenticeships\\n           </a>\\n          </li>\\n          <li class=\"view-listitem listitem-blog_channel\">\\n           <a href=\"/Blog/Your-Turn\" title=\"Your Turn\">\\n            Your Turn\\n           </a>\\n          </li>\\n          <li class=\"view-listitem listitem-blog_channel\">\\n           <a href=\"/Blog/Corporate-Greed\" title=\"Corporate Greed\">\\n            Corporate Greed\\n           </a>\\n          </li>\\n          <li class=\"view-listitem listitem-blog_channel\">\\n           <a href=\"/Blog/Global-Action\" title=\"Global Action\">\\n            Global Action\\n           </a>\\n          </li>\\n          <li class=\"view-listitem listitem-blog_channel\">\\n           <a href=\"/Blog/Other-News\" title=\"Other News\">\\n            Other News\\n           </a>\\n          </li>\\n         </ul>\\n        </li>\\n       </ul>\\n      </li>\\n     </ul>\\n    </nav>\\n   </header>\\n  </div>\\n  <!-- header -->\\n  <div class=\"layout-leftCenter layout-subpage clearfix\" id=\"layout\">\\n   <div class=\"sidebarOne\">\\n    <nav>\\n     <ul id=\"subNav\">\\n      <!-- start : 82 -->\\n      <!-- item -->\\n      <li class=\"view-nav_item \">\\n       <a href=\"/Legislation-and-Politics/My-Vote-My-Right\">\\n        My Vote My Right\\n       </a>\\n      </li>\\n      <!-- item -->\\n      <li class=\"view-nav_item \">\\n       <a href=\"/Legislation-and-Politics/State-Legislative-Battles\">\\n        State Legislative Battles\\n       </a>\\n      </li>\\n      <!-- item -->\\n      <li class=\"view-nav_item \">\\n       <a href=\"/Legislation-and-Politics/This-Week-in-Congress\">\\n        This Week in Congress\\n       </a>\\n      </li>\\n      <!-- item -->\\n      <li class=\"view-nav_item \">\\n       <a href=\"/Legislation-and-Politics/Legislative-Voting-Records\">\\n        Legislative Voting Records\\n       </a>\\n      </li>\\n      <!-- descend -->\\n      <li class=\"on\">\\n       <span class=\"icon\">\\n       </span>\\n       <span class=\"Legislative Alerts\">\\n        <a href=\"/Legislation-and-Politics/Legislative-Alerts\">\\n         Legislative Alerts\\n        </a>\\n       </span>\\n      </li>\\n      <!-- item -->\\n      <li class=\"view-nav_item \">\\n       <a href=\"/Legislation-and-Politics/Legislative-Handbook\">\\n        Legislative Handbook\\n       </a>\\n      </li>\\n      <!-- item -->\\n      <li class=\"view-nav_item \">\\n       <a href=\"/Legislation-and-Politics/Testimonies\">\\n        Testimonies\\n       </a>\\n      </li>\\n      <!-- item -->\\n      <li class=\"view-nav_item \">\\n       <a href=\"/Legislation-and-Politics/Your-Elected-Officials\">\\n        Your Elected Officials\\n       </a>\\n      </li>\\n     </ul>\\n     <!-- /subNav -->\\n    </nav>\\n    <!-- sectionzone START: -->\\n    <!-- 196 -->\\n    <!-- folder 64731 -->\\n    <!-- left left index=0 -->\\n    <div id=\"address-e580846ae418b3cd2868c3660fd00b4e-ecf874621af8d55376da4be7bab01210\">\\n     <iframe border=\"0\" class=\"atWork\" frameborder=\"0\" height=\"361\" scrolling=\"no\" src=\"http://www.aflcio.org/atWork/(widget)\" width=\"100%\">\\n     </iframe>\\n     <style type=\"text/css\">\\n      .sidebarOne iframe.atWork, .sidebarTwo iframe.atWork{overflow:hidden;margin-top:.5em}\\n\\t\\tdiv.layout-leftCenterRight .sidebarTwo iframe.atWork{margin-left:4px;}\\n     </style>\\n    </div>\\n    <!-- sectionzone END: -->\\n   </div>\\n   <div class=\"pageHolder clearfix\">\\n    <div class=\"breadcrumb\">\\n     <!-- node breadcrumb -->\\n     <a href=\"/\">\\n      Home\\n     </a>\\n     &gt;\\n     <a href=\"/Legislation-and-Politics\">\\n      Legislation and Politics\\n     </a>\\n     &gt;\\n     <span>\\n      Legislative Alerts\\n     </span>\\n    </div>\\n    <!-- sectionzone START: -->\\n    <!-- 196 -->\\n    <!-- folder 64731 -->\\n    <!-- sectionzone END: -->\\n    <section class=\"content-view-full full-listing_page\">\\n     <header>\\n      <!-- inside node/view/full -->\\n      <div class=\"page-title\">\\n       <h1>\\n        Legislative Alerts\\n       </h1>\\n      </div>\\n     </header>\\n     <div id=\"divButtons\">\\n     </div>\\n     <!-- Share Bar Plugin DIV Container -->\\n     <script type=\"text/javascript\">\\n      var act = new gigya.socialize.UserAction();\\n/*\\t\\tact.setUserMessage(\"This is the user message\"); */\\n\\t\\tact.setTitle(\"Legislative Alerts\");\\n\\t\\tact.setLinkBack(\"http://goo.gl/uU8B9\");\\n\\t\\t/*act.setDescription(\"Seasons is a surreal motion graphics animation based on the changing seasons.\");*/\\n\\t\\tact.addActionLink(\"Legislative Alerts\", \"http://goo.gl/uU8B9\");\\n\\t\\t/*act.addMediaItem({ type: \\'image\\', src: \\'http://b.vimeocdn.com/ts/160/564/160564685_100.jpg\\', href: \\'http://vimeo.com/24496773\\' });*/\\n      \\n          \\n\\t\\tvar showShareBarUI_params=\\n\\t\\t{ \\n\\t\\t\\tcontainerID: \\'componentDiv196\\',\\n\\t\\t\\t\\n\\t\\t\\t\\t\\t\\t\\tshareButtons: \\'Share,Facebook,Facebook-Like,Twitter-Tweet\\',\\t\\t\\t\\n\\t\\t\\t\\t\\t\\t\\n\\t\\t\\ticonsOnly: \\'false\\',\\n\\t\\t\\tuserAction: act,\\n\\t\\t\\tshortURLs: \\'never\\'\\n\\t\\t}\\n     </script>\\n     <div id=\"componentDiv196\">\\n     </div>\\n     <script type=\"text/javascript\">\\n      gigya.socialize.showShareBarUI(showShareBarUI_params);\\n     </script>\\n     <div class=\"legisalerts_searchtool\" style=\"margin-top: 0px;\">\\n      <div class=\"search legisalerts_search\">\\n       <form action=\"/Legislation-and-Politics/Legislative-Alerts/\" id=\"siteSearch\" method=\"post\">\\n        <label for=\"keyword\">\\n         Search Legislative Alerts:\\n        </label>\\n        <input id=\"keyword\" name=\"SearchText\" size=\"10\" type=\"text\" value=\"\"/>\\n        <input alt=\"search\" class=\"button\" src=\"/extension/aflcio/design/aflcio_user/images/btn-search-blog.png\" type=\"image\"/>\\n        <span>\\n        </span>\\n       </form>\\n      </div>\\n      <div class=\"legisalerts_year_search\">\\n       <!-- //navigation footer -->\\n       <form>\\n        <label for=\"children_years_EC\">\\n         Browse by Year:\\n        </label>\\n        <select id=\"children_years\">\\n         <option selected=\"selected\" value=\"2016\">\\n          2016\\n         </option>\\n         <option value=\"2015\">\\n          2015\\n         </option>\\n         <option value=\"2014\">\\n          2014\\n         </option>\\n         <option value=\"2013\">\\n          2013\\n         </option>\\n         <option value=\"2012\">\\n          2012\\n         </option>\\n         <option value=\"2011\">\\n          2011\\n         </option>\\n         <option value=\"2010\">\\n          2010\\n         </option>\\n        </select>\\n       </form>\\n       <script type=\"text/javascript\">\\n        $(document).ready(function(){\\n\\t\\t\\t\\t\\t$(\\'#children_years\\').change(function(){\\n\\t\\t\\t\\t\\t\\twindow.location = \"/Legislation-and-Politics/Legislative-Alerts/(y)/\"+$(this).val();\\n\\t\\t\\t\\t\\t});\\n\\t\\t\\t\\t});\\n       </script>\\n      </div>\\n     </div>\\n     <div class=\"legisalerts_listing\">\\n      <div class=\"ec_statements\">\\n       <div id=\"legalert_title\">\\n        <a href=\"/Legislation-and-Politics/Legislative-Alerts/Letter-to-Senators-urging-them-to-oppose-the-conference-report-on-the-Customs-Bill-H.R.-644\">\\n         Letter to Senators urging them to oppose the conference report on the Customs Bill (H.R. 644)\\n        </a>\\n       </div>\\n       <div id=\"legalert_date\">\\n        February 09, 2016\\n       </div>\\n      </div>\\n      <div class=\"ec_statements\">\\n       <div id=\"legalert_title\">\\n        <a href=\"/Legislation-and-Politics/Legislative-Alerts/Letter-to-Senators-in-support-of-the-Workplace-Action-for-a-Growing-Economy-Act\">\\n         Letter to Senators in support of the Workplace Action for a Growing Economy Act\\n        </a>\\n       </div>\\n       <div id=\"legalert_date\">\\n        January 07, 2016\\n       </div>\\n      </div>\\n      <div class=\"ec_statements\">\\n       <div id=\"legalert_title\">\\n        <a href=\"/Legislation-and-Politics/Legislative-Alerts/Letter-to-Representatives-in-support-of-The-Workplace-Action-for-a-Growing-Economy-Act\">\\n         Letter to Representatives in support of The Workplace Action for a Growing Economy Act\\n        </a>\\n       </div>\\n       <div id=\"legalert_date\">\\n        January 07, 2016\\n       </div>\\n      </div>\\n      <div class=\"ec_statements\">\\n       <div id=\"legalert_title\">\\n        <a href=\"/Legislation-and-Politics/Legislative-Alerts/Letter-to-Representatives-opposing-the-Fairness-in-Class-Action-Litigation-and-Furthering-Asbestos-Claim-Transparency-Act\">\\n         Letter to Representatives opposing the \"Fairness in Class Action Litigation and Furthering Asbestos Claim Transparency Act\"\\n        </a>\\n       </div>\\n       <div id=\"legalert_date\">\\n        January 05, 2016\\n       </div>\\n      </div>\\n     </div>\\n    </section>\\n    <!-- //full-legislative_alert -->\\n    <!-- sectionzone START: -->\\n    <!-- 196 -->\\n    <!-- folder 64731 -->\\n    <!-- sectionzone END: -->\\n   </div>\\n   <!-- /pageHolder -->\\n  </div>\\n  <!-- /layout-leftCenter -->\\n  <div id=\"footerHolder\">\\n   <div class=\"pageHolder social_banner joinUsOnline\">\\n    <ul>\\n     <li>\\n      <a href=\"http://www.flickr.com/photos/afl-cio/\" target=\"_blank\">\\n       <img alt=\"Flickr\" height=\"24\" src=\"/extension/aflcio/design/aflcio_user/images/icn-flickr24.png\" width=\"24\"/>\\n      </a>\\n     </li>\\n     <li>\\n      <a href=\"http://www.youtube.com/user/AFLCIONow\" target=\"_blank\">\\n       <img alt=\"YouTube\" height=\"24\" src=\"/extension/aflcio/design/aflcio_user/images/icn-youtube24.png\" width=\"24\"/>\\n      </a>\\n     </li>\\n     <li>\\n      <a href=\"https://twitter.com/AFLCIO\" target=\"_blank\">\\n       <img alt=\"Twitter\" height=\"24\" src=\"/extension/aflcio/design/aflcio_user/images/icn-twitter24.png\" width=\"24\"/>\\n      </a>\\n     </li>\\n     <li>\\n      <a href=\"http://www.facebook.com/aflcio\" target=\"_blank\">\\n       <img alt=\"Facebook\" height=\"24\" src=\"/extension/aflcio/design/aflcio_user/images/icn-facebook24.png\" width=\"24\"/>\\n      </a>\\n     </li>\\n    </ul>\\n    <h2>\\n     Join Us Online\\n    </h2>\\n   </div>\\n   <section class=\"pageHolder linkSet\">\\n    <article class=\"mod\">\\n     <h2>\\n      <a href=\"/Learn-About-Unions\">\\n       Learn About Unions\\n      </a>\\n     </h2>\\n     <ul>\\n      <li>\\n       <a href=\"/Learn-About-Unions/What-Unions-Do\" target=\"_self\">\\n        What Unions Do\\n       </a>\\n      </li>\\n      <li>\\n       <a href=\"/Learn-About-Unions/How-to-Join-or-Form-a-Union\" target=\"_self\">\\n        Join or Form a Union\\n       </a>\\n      </li>\\n      <li>\\n       <a href=\"/Get-Involved/Become-a-Union-Organizer\" target=\"_self\">\\n        Become an Organizer\\n       </a>\\n      </li>\\n      <li>\\n       <a href=\"/Learn-About-Unions/Global-Labor-Movement\" target=\"_self\">\\n        The International Labor Movement\\n       </a>\\n      </li>\\n     </ul>\\n    </article>\\n    <!-- mod -->\\n    <article class=\"mod\">\\n     <h2>\\n      <a href=\"/Legislation-and-Politics\">\\n       Legislation &amp; Politics\\n      </a>\\n     </h2>\\n     <ul>\\n      <li>\\n       <a href=\"/In-Your-Community\" target=\"_self\">\\n        Your Elected Officials\\n       </a>\\n      </li>\\n      <li>\\n       <a href=\"/Legislation-and-Politics/Legislative-Voting-Records\" target=\"_self\">\\n        Legislative Voting Records\\n       </a>\\n      </li>\\n      <li>\\n       <a href=\"/Legislation-and-Politics/Election-2012\" target=\"_self\">\\n        Political Action\\n       </a>\\n      </li>\\n      <li>\\n       <a href=\"/Legislation-and-Politics/Voters-Rights-REDIRECTS-TO-MVMR\" target=\"_self\">\\n        Voters\\' Rights\\n       </a>\\n      </li>\\n     </ul>\\n    </article>\\n    <!-- mod -->\\n    <article class=\"mod\">\\n     <h2>\\n      <a href=\"/About\">\\n       About AFL-CIO\\n      </a>\\n     </h2>\\n     <ul>\\n      <li>\\n       <a href=\"/About/Our-Mission-and-Vision\" target=\"_self\">\\n        Our Mission &amp; Vision\\n       </a>\\n      </li>\\n      <li>\\n       <a href=\"/About/What-the-AFL-CIO-Does\" target=\"_self\">\\n        What AFL-CIO Does\\n       </a>\\n      </li>\\n      <li>\\n       <a href=\"/About/AFL-CIO-Unions\" target=\"_self\">\\n        Our Unions\\n       </a>\\n      </li>\\n      <li>\\n       <a href=\"/About/Exec-Council\" target=\"_self\">\\n        Executive Council &amp; Convention Actions\\n       </a>\\n      </li>\\n     </ul>\\n    </article>\\n    <!-- mod -->\\n    <article class=\"mod\">\\n     <h2>\\n      <a href=\"/Newsletter-Signup\">\\n       Connect With Us\\n      </a>\\n     </h2>\\n     <ul>\\n      <li>\\n       <a href=\"/In-Your-Community\" target=\"_self\">\\n        In Your Community\\n       </a>\\n      </li>\\n      <li>\\n       <a href=\"/Newsletter-Signup\" target=\"_self\">\\n        Sign Up for E-Mails\\n       </a>\\n      </li>\\n      <li>\\n       <a href=\"/rss/feed/Blog\" target=\"_self\">\\n        AFL-CIO Now RSS\\n       </a>\\n      </li>\\n     </ul>\\n    </article>\\n    <!-- mod -->\\n   </section>\\n   <script src=\"/extension/aflcio/design/aflcio_user/javascript/libs/jquery.jcarousel.min.js\">\\n   </script>\\n   <script>\\n    jQuery(document).ready(function() {\\n\\t\\t\\tjQuery(\\'#adScroller\\').jcarousel({\\n\\t\\t\\t\\twrap: \\'circular\\'\\n\\t\\t\\t});\\n\\t\\t});\\n   </script>\\n   <div class=\"pageHolder footerAds\">\\n    <div id=\"adScroller\">\\n     <ul>\\n      <li>\\n       <a href=\" http://www.unionplus.org/new-improved-credit-card\">\\n        <img alt=\"Union Plus Credit Card\" height=\"70\" src=\"/var/ezflow_site/storage/images/site_aflcio/site-settings/footer-promos/union-plus-credit-card/2400081-1-eng-US/Union-Plus-Credit-Card_adbuttonwide.gif\" style=\"border: 0px  ;\" title=\"Union Plus Credit Card\" width=\"180\"/>\\n       </a>\\n      </li>\\n      <li>\\n       <a href=\"www.unionveterans.org\">\\n        <img alt=\"Union Veterans Council\" height=\"70\" src=\"/var/ezflow_site/storage/images/site_aflcio/site-settings/footer-promos/union-veterans-council/718-1-eng-US/Union-Veterans-Council_adbuttonwide.gif\" style=\"border: 0px  ;\" title=\"Union Veterans Council\" width=\"180\"/>\\n       </a>\\n      </li>\\n      <li>\\n       <a href=\"http://workingamericahealthcare.org/\">\\n        <img alt=\"Working America Health Care\" height=\"70\" src=\"/var/ezflow_site/storage/images/site_aflcio/site-settings/footer-promos/working-america-health-care/2405501-2-eng-US/Working-America-Health-Care_adbuttonwide.jpg\" style=\"border: 0px  ;\" title=\"Working America Health Care\" width=\"180\"/>\\n       </a>\\n      </li>\\n      <li>\\n       <a href=\"http://www.laborheritage.org/\">\\n        <img alt=\"Labor Heritage Foundation\" height=\"70\" src=\"/var/ezflow_site/storage/images/aflcio/site-settings/footer-promos/labor-heritage-foundation/683-5-eng-US/Labor-Heritage-Foundation_adbuttonwide.jpg\" style=\"border: 0px  ;\" title=\"Labor Heritage Foundation\" width=\"180\"/>\\n       </a>\\n      </li>\\n      <li>\\n       <a href=\"http://www.theunionbootpro.com/aflciousa.cfm\">\\n        <img alt=\"The Union Boot Pro Ad\" height=\"70\" src=\"/var/ezflow_site/storage/images/aflcio/site-settings/footer-promos/the-union-boot-pro/73209-1-eng-US/The-Union-Boot-Pro_adbuttonwide.jpg\" style=\"border: 0px  ;\" title=\"The Union Boot Pro Ad\" width=\"180\"/>\\n       </a>\\n      </li>\\n      <li>\\n       <a href=\"http://www.unionsportsmen.org/\">\\n        <img alt=\"Union Sportsmen\\'s Alliance Ad\" height=\"70\" src=\"/var/ezflow_site/storage/images/aflcio/site-settings/footer-promos/union-sportsmen-s-alliance/72869-1-eng-US/Union-Sportsmen-s-Alliance_adbuttonwide.jpg\" style=\"border: 0px  ;\" title=\"Union Sportsmen\\'s Alliance Ad\" width=\"180\"/>\\n       </a>\\n      </li>\\n      <li>\\n       <a href=\"https://www.aflcioefcu.org/index.html\">\\n        <img alt=\"AFL-CIO Credit Union\" height=\"70\" src=\"/var/ezflow_site/storage/images/site_aflcio/site-settings/footer-promos/afl-cio-credit-union/2608001-1-eng-US/AFL-CIO-Credit-Union_adbuttonwide.png\" style=\"border: 0px  ;\" title=\"AFL-CIO Credit Union\" width=\"180\"/>\\n       </a>\\n      </li>\\n      <li>\\n       <a href=\"/Get-Involved/Young-Workers\">\\n        <img alt=\"Next UP\" height=\"70\" src=\"/var/ezflow_site/storage/images/site_aflcio/site-settings/footer-promos/next-up/2405421-1-eng-US/Next-UP_adbuttonwide.png\" style=\"border: 0px  ;\" title=\"Next UP\" width=\"180\"/>\\n       </a>\\n      </li>\\n      <li>\\n       <a href=\"/About/Stronger-Together\">\\n        <img alt=\"We\\'re Stronger Together. Join us today.\" height=\"70\" src=\"/var/ezflow_site/storage/images/site_aflcio/site-settings/footer-promos/we-re-stronger-together/2890731-1-eng-US/We-re-Stronger-Together_adbuttonwide.jpg\" style=\"border: 0px  ;\" title=\"We\\'re Stronger Together. Join us today.\" width=\"180\"/>\\n       </a>\\n      </li>\\n     </ul>\\n    </div>\\n   </div>\\n   <div class=\"pageHolder footer\">\\n    <address class=\"address\">\\n    </address>\\n    <p class=\"copyright\">\\n     Copyright \\xa9 2016 AFL-CIO\\n    </p>\\n    <nav>\\n     <ul class=\"links\">\\n      <li class=\"view-listitem listitem-nav_item\">\\n       <a href=\"/Contact-Us\">\\n        Contact Us\\n       </a>\\n       |\\n      </li>\\n      <li class=\"view-listitem listitem-nav_item\">\\n       <a href=\"/Multimedia\">\\n        Multimedia\\n       </a>\\n       |\\n      </li>\\n      <li class=\"view-listitem listitem-nav_itemlast\">\\n       <a href=\"/Privacy-Policy-and-Terms-of-Use\">\\n        Privacy Policy &amp; Terms of Use\\n       </a>\\n      </li>\\n     </ul>\\n    </nav>\\n    <div class=\"text_msg-text\">\\n     Text\\n     <strong>\\n      WORK\\n     </strong>\\n     to\\n     <strong>\\n      235246\\n     </strong>\\n     (AFL-CIO) for periodic standard rate mobile updates. Msg&amp;Data rates may apply. Text\\n     <strong>\\n      HELP\\n     </strong>\\n     for more info or\\n     <strong>\\n      STOP\\n     </strong>\\n     to end.\\n    </div>\\n   </div>\\n   <!-- footer -->\\n  </div>\\n  <!-- footerHolder -->\\n  <script type=\"text/javascript\">\\n   var switchTo5x=true;\\n  </script>\\n  <script src=\"/extension/aflcio/design/aflcio_user/javascript/libs/superfish.js\">\\n  </script>\\n  <script src=\"/extension/aflcio/design/aflcio_user/javascript/libs/hoverIntent.min.js\">\\n  </script>\\n  <script>\\n   // initialise main nav\\n\\tjQuery(function(){\\n\\t\\tjQuery(\\'ul.sf-menu\\').superfish({\\n\\t\\tdelay: 400,// the delay before sub closes\\n\\t\\tautoArrows\\t: false,\\n\\t\\tspeed: \\'fast\\'// speed of the fade-in\\n\\t\\t});\\n\\t});\\n  </script>\\n  <!--img src=\"http://ad.retargeter.com/seg?add=593437&t=2\" width=\"1\" height=\"1\" /-->\\n  <script type=\"text/javascript\">\\n   adroll_adv_id = \"RLG6ULEEQND7LE72CNIE2R\";\\nadroll_pix_id = \"RO7HYXBXEZA2XOYH2UXGI4\";\\n(function () {\\nvar oldonload = window.onload;\\nwindow.onload = function(){\\n   __adroll_loaded=true;\\n   var scr = document.createElement(\"script\");\\n   var host = ((\"https:\" == document.location.protocol) ? \"https://s.adroll.com\" : \"http://a.adroll.com\");\\n   scr.setAttribute(\\'async\\', \\'true\\');\\n   scr.type = \"text/javascript\";\\n   scr.src = host + \"/j/roundtrip.js\";\\n   ((document.getElementsByTagName(\\'head\\') || [null])[0] ||\\n    document.getElementsByTagName(\\'script\\')[0].parentNode).appendChild(scr);\\n   if(oldonload){oldonload()}};\\n}());\\n  </script>\\n  <script type=\"text/javascript\">\\n   var axel = Math.random() + \"\";\\nvar a = axel * 10000000000000;\\ndocument.write(\\'<iframe src=\"https://4552251.fls.doubleclick.net/activityi;src=4552251;type=partn0;cat=wahc_002;ord=1;num=\\' + a + \\'?\" width=\"1\" height=\"1\" frameborder=\"0\" style=\"display:none\"></iframe>\\');\\n  </script>\\n  <noscript>\\n   <iframe frameborder=\"0\" height=\"1\" src=\"https://4552251.fls.doubleclick.net/activityi;src=4552251;type=partn0;cat=wahc_002;ord=1;num=1?\" style=\"display:none\" width=\"1\">\\n   </iframe>\\n  </noscript>\\n  <!-- End of DoubleClick Floodlight Tag: Please do not remove -->\\n  <script type=\"text/javascript\">\\n   /* <![CDATA[ */\\nvar google_conversion_id = 1007743207;\\nvar google_custom_params = window.google_tag_params;\\nvar google_remarketing_only = true;\\n/* ]]> */\\n  </script>\\n  <script src=\"//www.googleadservices.com/pagead/conversion.js\" type=\"text/javascript\">\\n  </script>\\n  <noscript>\\n   <div style=\"display:inline;\">\\n    <img alt=\"\" height=\"1\" src=\"//googleads.g.doubleclick.net/pagead/viewthroughconversion/1007743207/?value=0&amp;guid=ON&amp;script=0\" style=\"border-style:none;\" width=\"1\"/>\\n   </div>\\n  </noscript>\\n  <iframe frameborder=\"0\" height=\"0\" name=\"IB5k Tracking - AFL CIO MAIN PAGE\" scrolling=\"no\" src=\"//insight.adsrvr.org/tags/pt2fwhm/kekfpuz6/iframe\" width=\"0\">\\n  </iframe>\\n  <div aria-hidden=\"true\" aria-labelledby=\"loginLabel\" class=\"modal hide fade\" data-backdrop=\"static\" id=\"verify\" role=\"dialog\" style=\"display: none;position: absolute;\" tabindex=\"-1\">\\n   <div id=\"loader\">\\n   </div>\\n   <div class=\"modal-header verify_form\">\\n    <button aria-hidden=\"true\" class=\"close\" data-dismiss=\"modal\" id=\"login-close\" type=\"button\">\\n     x\\n    </button>\\n    <h3 id=\"loginLabel\">\\n     Complete your Social Registration\\n    </h3>\\n   </div>\\n   <div class=\"modal-body\" style=\"max-height: 700px;\">\\n    <div class=\"clearfix\">\\n     <div class=\"pull-left\" id=\"gigya-profile_pop\">\\n      <img id=\"gigya-photo_pop\" src=\"\"/>\\n      <span id=\"gigya-name_pop\">\\n      </span>\\n     </div>\\n     <p>\\n      Thanks for connecting with your\\n      <class id=\"gigya-social_provider\">\\n      </class>\\n      account.  We have pre-populated some fields below and need you to verify your information and confirm you have read and agree to the posting guidelines.\\n     </p>\\n    </div>\\n    <div id=\"sent_social\" style=\"display: none;\">\\n    </div>\\n    <form id=\"verify_form\" method=\"post\" name=\"verify_form\">\\n     <input id=\"form_input_UID\" name=\"uid\" type=\"hidden\" value=\"\"/>\\n     <input id=\"form_input_socialprovider\" maxlength=\"35\" name=\"social_provider\" type=\"hidden\"/>\\n     <input id=\"form_input_firstname\" maxlength=\"35\" name=\"first_name\" type=\"hidden\"/>\\n     <input id=\"form_input_lastname\" maxlength=\"35\" name=\"last_name\" type=\"hidden\"/>\\n     <div class=\"row-fluid\">\\n      <div class=\"group span6\">\\n       <label for=\"email\">\\n        Email\\n       </label>\\n       <input class=\"input-block-level\" disabled=\"\" id=\"form_input_email\" maxlength=\"35\" name=\"email\" type=\"text\"/>\\n      </div>\\n      <div class=\"group span6 showerror\">\\n       <label for=\"username\">\\n        User Name\\n       </label>\\n       <input class=\"input-block-level\" id=\"form_username\" maxlength=\"35\" name=\"username\" type=\"text\"/>\\n      </div>\\n     </div>\\n     <div class=\"row-fluid\">\\n      <div class=\"group span5 showerror\">\\n       <label for=\"zip\">\\n        ZIP\\n       </label>\\n       <input class=\"input-block-level\" id=\"form_zip\" maxlength=\"10\" name=\"form_zip\" type=\"text\"/>\\n      </div>\\n      <div class=\"group span7\">\\n       <label for=\"union\">\\n        Union\\n       </label>\\n       <select class=\"input-block-level\" id=\"form_union_org\" name=\"union_org\" size=\"1\">\\n        <option selected=\"selected\" value=\"\">\\n         Select a Union\\n        </option>\\n        <option value=\"Non Member\">\\n         Not a Union Member\\n        </option>\\n       </select>\\n      </div>\\n     </div>\\n     <div class=\"group verify_form_checkbox1\">\\n      <label class=\"checkbox\" style=\"width: auto;\">\\n       <input class=\"checkbox\" id=\"guid1\" name=\"guid\" type=\"checkbox\" value=\"1\"/>\\n       Yes, I have read and agree to the\\n       <a class=\"guid_pop\" data-html=\"true\" data-placement=\"right\" data-title=\"&lt;h1&gt;Guidlines&lt;/h1&gt;&lt;ul&gt;&lt;li&gt;No foul, discriminatory, defamatory, libelous or threatening language.&lt;/li&gt;&lt;li&gt;No invasion of privacy; no racially, ethnically or otherwise objectionable language.&lt;/li&gt;&lt;li&gt;Do not post material in violation of trademark or copyright laws or other laws.&lt;/li&gt;&lt;li&gt;Comments should be relevant to the blog post or thread. Your comments will have the greatest impact if they are brief and clear.&lt;/li&gt;&lt;li&gt;No attacks that identify individuals, companies, unions or other organizations.&lt;/li&gt;&lt;li&gt;No spam, flaming, flooding, advertisements or solicitations.&lt;/li&gt;&lt;/ul&gt;\" data-toggle=\"tooltip\" data-trigger=\"hover\" href=\"#\">\\n        guidlines\\n       </a>\\n       .\\n      </label>\\n     </div>\\n     <div class=\"group verify_form_checkbox2\">\\n      <label class=\"checkbox\" style=\"width: auto;\">\\n       <input checked=\"checked\" id=\"sign_up1\" name=\"signup\" type=\"checkbox\" value=\"1\"/>\\n       Sign me up to receive email updates on major postings from AFL-CIO Now blog news and action alerts from the AFL-CIO\\'s Working Families Network.\\n      </label>\\n     </div>\\n     <div class=\"group verify_form_checkbox3\">\\n      <label class=\"checkbox\" style=\"width: auto;\">\\n      </label>\\n     </div>\\n     <div>\\n      <button class=\"input-block-level btn btn-warning submit\" type=\"submit\">\\n       Sign Up\\n      </button>\\n     </div>\\n    </form>\\n    <div class=\"login-loader\">\\n    </div>\\n   </div>\\n  </div>\\n  <div id=\"dialog-confirm\" style=\"display: none;\" title=\"Thanks for your submission\">\\n   <p>\\n    Thanks - Your submission was sent!\\n   </p>\\n  </div>\\n  <div aria-hidden=\"true\" aria-labelledby=\"regLabel\" class=\"modal hide fade\" data-backdrop=\"static\" id=\"registration_modal\" role=\"dialog\" style=\"display: none;position: absolute;\" tabindex=\"-1\">\\n   <div class=\"modal-header register_form\">\\n    <button aria-hidden=\"true\" class=\"close\" data-dismiss=\"modal\" id=\"reg-close\" type=\"button\">\\n     x\\n    </button>\\n    <h3 id=\"regLabel\">\\n     Welcome, register to join our online community!\\n    </h3>\\n   </div>\\n   <div id=\"sent\" style=\"display: none;\">\\n   </div>\\n   <div class=\"modal-body register_form\" id=\"reg_form_wrap\" style=\"\">\\n    <div class=\"row-fluid\">\\n     <div class=\"register_form span12\" id=\"reg_form_wrap_top\">\\n      <h2 id=\"regLabel\">\\n       Now you can register with your social network!\\n      </h2>\\n      Choose your perferred social account below to register.  Logging in is as easy as logging in to your account - no new passwords to remember!\\n      <div class=\"\" id=\"registration_modalDiv\">\\n      </div>\\n     </div>\\n    </div>\\n    <div class=\"row-fluid\">\\n     <div class=\"register_form span12\" id=\"reg_form_wrap_form\">\\n      <h2 id=\"regLabel\">\\n       Register with the AFL-CIO\\n      </h2>\\n      <form id=\"signup\" method=\"post\" name=\"signup\">\\n       <div class=\"error\">\\n        <span>\\n        </span>\\n       </div>\\n       <div class=\"row-fluid\">\\n        <div class=\"group span6\">\\n         <label for=\"email\">\\n          Email Address:\\n         </label>\\n         <input class=\"input-block-level\" id=\"reg_email\" name=\"reg_email\" type=\"text\" value=\"\"/>\\n         <a class=\"getpassword\" href=\"/apps/login/forgot_password.php\" id=\"reg_login\" title=\"Forgot Password\">\\n         </a>\\n        </div>\\n        <div class=\"group span6 showerror\">\\n         <label for=\"username\">\\n          Username:\\n         </label>\\n         <input class=\"input-block-level\" id=\"reg_username\" name=\"username\" type=\"text\"/>\\n        </div>\\n       </div>\\n       <div class=\"row-fluid\">\\n        <div class=\"group span6\">\\n         <label for=\"first_name\">\\n          First Name:\\n         </label>\\n         <input class=\"input-block-level\" id=\"reg_first_name\" name=\"first_name\" type=\"text\"/>\\n        </div>\\n        <div class=\"group span6\">\\n         <label for=\"last_name\">\\n          Last Name:\\n         </label>\\n         <input class=\"input-block-level\" id=\"reg_last_name\" name=\"last_name\" type=\"text\"/>\\n        </div>\\n       </div>\\n       <div class=\"row-fluid\">\\n        <div class=\"group span4 showerror\">\\n         <label for=\"zip\">\\n          Zip:\\n         </label>\\n         <input class=\"input-block-level\" id=\"reg_zip\" name=\"zip\" type=\"text\" value=\"\"/>\\n        </div>\\n        <div class=\"group span8\">\\n         <label for=\"union_org\">\\n          Union:\\n         </label>\\n         <select class=\"input-block-level\" id=\"reg_union_org\" name=\"union_org\" size=\"1\">\\n          <option selected=\"selected\" value=\"\">\\n           Select a Union\\n          </option>\\n          <option value=\"Non Member\">\\n           Not a Union Member\\n          </option>\\n         </select>\\n        </div>\\n       </div>\\n       <div class=\"row-fluid\">\\n        <div class=\"group span6\">\\n         <label for=\"password1\">\\n          Password:\\n         </label>\\n         <input class=\"input-block-level\" id=\"password1\" maxlength=\"20\" name=\"password1\" size=\"20\" type=\"password\"/>\\n        </div>\\n        <div class=\"group span6\">\\n         <label for=\"password2\" style=\"width: auto;\">\\n          Confirm Password:\\n         </label>\\n         <input class=\"input-block-level\" id=\"password2\" maxlength=\"20\" name=\"password2\" size=\"20\" type=\"password\"/>\\n        </div>\\n        <div class=\"pw_text\">\\n         <small>\\n          * The password must be at least 6 characters.\\n         </small>\\n        </div>\\n       </div>\\n       <div class=\"group verify_form_checkbox1\">\\n        <label class=\"checkbox\" for=\"guid\" style=\"width: auto;\">\\n         <input class=\"checkbox\" id=\"guid\" name=\"guid\" type=\"checkbox\" value=\"1\"/>\\n         Yes, I have read and agree to the\\n         <a class=\"guid_pop\" data-html=\"true\" data-placement=\"right\" data-title=\"&lt;h1&gt;Guidlines&lt;/h1&gt;&lt;ul&gt;&lt;li&gt;No foul, discriminatory, defamatory, libelous or threatening language.&lt;/li&gt;&lt;li&gt;No invasion of privacy; no racially, ethnically or otherwise objectionable language.&lt;/li&gt;&lt;li&gt;Do not post material in violation of trademark or copyright laws or other laws.&lt;/li&gt;&lt;li&gt;Comments should be relevant to the blog post or thread. Your comments will have the greatest impact if they are brief and clear.&lt;/li&gt;&lt;li&gt;No attacks that identify individuals, companies, unions or other organizations.&lt;/li&gt;&lt;li&gt;No spam, flaming, flooding, advertisements or solicitations.&lt;/li&gt;&lt;/ul&gt;\" data-toggle=\"tooltip\" data-trigger=\"hover\" href=\"#\">\\n          guidlines\\n         </a>\\n         .\\n        </label>\\n       </div>\\n       <div class=\"group verify_form_checkbox2\">\\n        <label class=\"checkbox\" for=\"sign_up\" style=\"width: auto;\">\\n         <input checked=\"checked\" class=\"checkbox\" id=\"sign_up\" name=\"sign_up\" type=\"checkbox\" value=\"1\"/>\\n         Sign me up to receive email updates on major postings from AFL-CIO Now blog news and action alerts from the AFL-CIO\\'s Working Families Network.\\n        </label>\\n       </div>\\n       <div class=\"group verify_form_checkbox3\">\\n        <label class=\"checkbox\" style=\"width: auto;\">\\n        </label>\\n       </div>\\n       <div>\\n        <button class=\"input-block-level btn btn-warning submit\" type=\"submit\">\\n         Sign Up\\n        </button>\\n       </div>\\n      </form>\\n      <a class=\"login_link\" href=\"#\">\\n       Already registered? Login here.\\n      </a>\\n     </div>\\n    </div>\\n    <div class=\"login-loader\">\\n    </div>\\n   </div>\\n  </div>\\n  <div aria-hidden=\"true\" aria-labelledby=\"loginLabel\" class=\"modal hide fade\" data-backdrop=\"static\" id=\"login\" role=\"dialog\" style=\"display: none;\" tabindex=\"-1\">\\n   <div class=\"modal-header verify_form\">\\n    <button aria-hidden=\"true\" class=\"close\" data-dismiss=\"modal\" id=\"login-close\" type=\"button\">\\n     x\\n    </button>\\n    <h3 id=\"loginLabel\">\\n     Welcome. We\\u2019re glad you\\u2019re here.\\n    </h3>\\n   </div>\\n   <div class=\"modal-body\" style=\"max-height: 800px;\">\\n    <div class=\"row-fluid\" id=\"reg_container\">\\n     <div id=\"login-wrap\">\\n      <div class=\"row-fluid\" id=\"rightContent2\">\\n       <div class=\"span6\">\\n        <h2 class=\"section-title\">\\n         Log in faster with your social network account!\\n        </h2>\\n        <p>\\n         <small>\\n          Sign in quickly and securely with your preferred social network account to comment and participate in our online community.\\n         </small>\\n        </p>\\n        <div class=\"\" id=\"loginDiv\">\\n        </div>\\n       </div>\\n       <div class=\"span5 pull-right\">\\n        <h2 class=\"section-title\">\\n         Already have an AFL-CIO account? Sign in to comment and more.\\n        </h2>\\n        <div class=\"alert alert-error\" id=\"gigya-loginMessage\" style=\"display: none;\">\\n         <p class=\"message-text\" style=\"font-size: 80%; margin: 0px;\">\\n         </p>\\n        </div>\\n        <form class=\"row-fluid\" id=\"reg_form_login\" method=\"post\" name=\"reg_form_login\" style=\"margin-bottom: 0px;\">\\n         <div class=\"row-fluid fieldset\">\\n          <label class=\"text-left\" for=\"userid\">\\n           Email\\n           <span class=\"help-inline\">\\n           </span>\\n          </label>\\n          <input class=\"input-block-level required email\" id=\"userid\" maxlength=\"55\" name=\"userid\" type=\"text\"/>\\n         </div>\\n         <div class=\"row-fluid fieldset\">\\n          <label class=\"text-left\" for=\"pass\">\\n           Password\\n           <span class=\"help-inline\">\\n           </span>\\n          </label>\\n          <input class=\"input-block-level required password\" id=\"pass\" maxlength=\"30\" name=\"pass\" type=\"password\"/>\\n         </div>\\n         <div class=\"row-fluid fieldset\">\\n          <label>\\n          </label>\\n          <button class=\"btn btn-warning btn-block\" type=\"submit\">\\n           Sign in\\n           <i class=\"icon-user icon-white\">\\n           </i>\\n          </button>\\n         </div>\\n         <input name=\"ref\" type=\"hidden\" value=\"\"/>\\n        </form>\\n        <p>\\n         <a href=\"#\" id=\"password_link\">\\n          Forgot your password?\\n         </a>\\n        </p>\\n       </div>\\n      </div>\\n      <!-- rightContent2 -->\\n      <div class=\"row-fluid\">\\n       <a class=\"register_link\" href=\"#\" id=\"register_link\">\\n        Need an account? Register here.\\n       </a>\\n      </div>\\n     </div>\\n     <!-- login-wrap -->\\n     <div class=\"login-loader\">\\n     </div>\\n    </div>\\n    <!--/ reg_container -->\\n   </div>\\n   <!-- modal-body -->\\n  </div>\\n  <!-- login -->\\n  <div aria-hidden=\"true\" aria-labelledby=\"pw_help\" class=\"modal hide fade\" data-backdrop=\"static\" id=\"pw_help\" role=\"dialog\" style=\"display: none;\" tabindex=\"-11\">\\n   <div class=\"modal-header pw_verify_form\">\\n    <button aria-hidden=\"true\" class=\"close\" data-dismiss=\"modal\" id=\"password-close\" type=\"button\">\\n     x\\n    </button>\\n    <h3 id=\"pwLabel\">\\n     Retrieve Password\\n    </h3>\\n   </div>\\n   <div class=\"modal-body\" style=\"max-height: 400px;\">\\n    <div id=\"loader\" style=\"display: none;\">\\n     <p>\\n      <img height=\"19\" src=\"/extension/aflcio/design/aflcio_user/images/ajax-loader.gif\" width=\"220\"/>\\n     </p>\\n    </div>\\n    <div id=\"pw_sent\">\\n    </div>\\n    <div id=\"form_outter\">\\n     Enter your email and we\\'ll send your password.\\n     <form id=\"password_get\" method=\"post\">\\n      <input name=\"submitted\" type=\"hidden\" value=\"TRUE\"/>\\n      <div class=\"row-fluid\">\\n       <div class=\"group span6\">\\n        <label for=\"email\">\\n         Email:\\n        </label>\\n        <input class=\"input-block-level\" id=\"email\" maxlength=\"35\" name=\"email\" size=\"20\" type=\"text\"/>\\n       </div>\\n       <div class=\"group span6\">\\n        <label>\\n        </label>\\n        <button class=\"btn btn-warning input-block-level\" name=\"submit\" type=\"submit\">\\n        </button>\\n        Resend my Password\\n       </div>\\n      </div>\\n     </form>\\n    </div>\\n    <!-- form_outter -->\\n   </div>\\n   <!-- modal-body -->\\n  </div>\\n  <!-- pw_help -->\\n  <script type=\"text/javascript\">\\n   $(document).ready(function(){\\n\\t\\t$.ajax({\\n\\t\\t\\turl:\\'/apps/json/aflcio_unions.json\\',\\n\\t\\t\\tdataType : \\'json\\',\\n\\t\\t\\tsuccess:function(data){\\n\\t\\t\\t\\t$.each(data, function(key, val) {\\n\\t\\t\\t\\t\\t$(\"#reg_union_org\").append(\\'<option value=\"\\'+key+\\'\">\\'+key+\\'</option>\\');\\n\\t\\t\\t\\t\\t$(\"#form_union_org\").append(\\'<option value=\"\\'+key+\\'\">\\'+key+\\'</option>\\');\\n\\t\\t\\t\\t\\t});\\n\\t\\t\\t}\\n\\t\\t});\\n\\t});\\n  </script>\\n  <script type=\"application/ld+json\">\\n   {\\n  \"@context\": \"http://schema.org\",\\n  \"@type\": \"WebSite\",\\n  \"url\": \"https://www.aflcio.org/\",\\n  \"potentialAction\": {\\n    \"@type\": \"SearchAction\",\\n    \"target\": \"https://www.aflcio.org/content/search/?SearchText={search_term}&x=0&y=0\",\\n    \"query-input\": \"required name=search_term\"\\n  }\\n}\\n  </script>\\n </body>\\n</html>\\n'"
      ]
     },
     "execution_count": 2,
     "metadata": {},
     "output_type": "execute_result"
    }
   ],
   "source": [
    "# Formats up everything in a variable so BeautifulSoup can wrestle with it I guess... ?\n",
    "soup.prettify()"
   ]
  },
  {
   "cell_type": "code",
   "execution_count": 3,
   "metadata": {
    "collapsed": false
   },
   "outputs": [
    {
     "data": {
      "text/plain": [
       "57720"
      ]
     },
     "execution_count": 3,
     "metadata": {},
     "output_type": "execute_result"
    }
   ],
   "source": [
    "# Lists the length of the list soup\n",
    "\n",
    "len(soup.prettify())"
   ]
  },
  {
   "cell_type": "code",
   "execution_count": 4,
   "metadata": {
    "collapsed": false
   },
   "outputs": [
    {
     "data": {
      "text/plain": [
       "u'2016\">\\n          2016\\n         </option>\\n         <option value=\"2015\">\\n          2015\\n         </option>\\n         <option value=\"2014\">\\n          2014\\n         </option>\\n         <option value=\"2013\">\\n          2013\\n         </option>\\n         <option value=\"2012\">\\n          2012\\n         </option>\\n         <option value=\"2011\">\\n          2011\\n         </option>\\n         <option value=\"2010\">\\n          2010\\n         </option>\\n        </select>\\n       </form>\\n       <script type=\"text/javascript\">\\n        $(document).ready(function(){\\n\\t\\t\\t\\t\\t$(\\'#children_years\\').change(function(){\\n\\t\\t\\t\\t\\t\\twindow.location = \"/Legislation-and-Politics/Legislative-Alerts/(y)/\"+$(this).val();\\n\\t\\t\\t\\t\\t});\\n\\t\\t\\t\\t});\\n       </script>\\n      </div>\\n     </div>\\n     <div class=\"legisalerts_listing\">\\n      <div class=\"ec_statements\">\\n       <div id=\"legalert_title\">\\n        <a href=\"/Legislation-and-Politics/Legislative-Alerts/Letter-to-Senators-urging-them-to-oppose-the-conference-report-on-the-Customs-Bill-H.R.-644\">\\n         Letter to Senators urging them to oppose the conference report on the Customs Bill (H.R. 644)\\n        </a>\\n       </div>\\n       <div id=\"legalert_date\">\\n        February 09, 2016\\n       </div>\\n      </div>\\n      <div class=\"ec_statements\">\\n       <div id=\"legalert_title\">\\n        <a href=\"/Legislation-and-Politics/Legislative-Alerts/Letter-to-Senators-in-support-of-the-Workplace-Action-for-a-Growing-Economy-Act\">\\n         Letter to Senators in support of the Workplace Action for a Growing Economy Act\\n        </a>\\n       </div>\\n       <div id=\"legalert_date\">\\n        January 07, 2016\\n       </div>\\n      </div>\\n      <div class=\"ec_statements\">\\n       <div id=\"legalert_title\">\\n        <a href=\"/Legislation-and-Politics/Legislative-Alerts/Letter-to-Representatives-in-support-of-The-Wor'"
      ]
     },
     "execution_count": 4,
     "metadata": {},
     "output_type": "execute_result"
    }
   ],
   "source": [
    "soup.prettify()[28700:30500]"
   ]
  },
  {
   "cell_type": "code",
   "execution_count": 5,
   "metadata": {
    "collapsed": false
   },
   "outputs": [
    {
     "name": "stdout",
     "output_type": "stream",
     "text": [
      "<div class=\"ec_statements\">\n",
      "<div id=\"legalert_title\"><a href=\"/Legislation-and-Politics/Legislative-Alerts/Letter-to-Senators-urging-them-to-oppose-the-conference-report-on-the-Customs-Bill-H.R.-644\">Letter to Senators urging them to oppose the conference report on the Customs Bill (H.R. 644)</a></div>\n",
      "<div id=\"legalert_date\">February 09, 2016</div>\n",
      "</div>\n"
     ]
    }
   ],
   "source": [
    "# Into the variable 'letters', searches 'soup' for all the 'div' of class 'ec_statements'\n",
    "\n",
    "letters = soup.find_all(\"div\", class_=\"ec_statements\")\n",
    "print letters[0]"
   ]
  },
  {
   "cell_type": "code",
   "execution_count": 6,
   "metadata": {
    "collapsed": false
   },
   "outputs": [
    {
     "data": {
      "text/plain": [
       "{u'Letter to Representatives in support of The Workplace Action for a Growing Economy Act': {},\n",
       " u'Letter to Representatives opposing the \"Fairness in Class Action Litigation and Furthering Asbestos Claim Transparency Act\"': {},\n",
       " u'Letter to Senators in support of the Workplace Action for a Growing Economy Act': {},\n",
       " u'Letter to Senators urging them to oppose the conference report on the Customs Bill (H.R. 644)': {}}"
      ]
     },
     "execution_count": 6,
     "metadata": {},
     "output_type": "execute_result"
    }
   ],
   "source": [
    "# Create an empty dictionary called lobbying\n",
    "\n",
    "lobbying = {}\n",
    "\n",
    "# For loop -- \n",
    "# for len(letters), every entry, put into the dictionary lobbying all the text from the anchor elements\n",
    "\n",
    "for element in letters:\n",
    "    lobbying[element.a.get_text()]={}\n",
    "lobbying"
   ]
  },
  {
   "cell_type": "code",
   "execution_count": 7,
   "metadata": {
    "collapsed": false
   },
   "outputs": [
    {
     "data": {
      "text/plain": [
       "'/Legislation-and-Politics/Legislative-Alerts/Letter-to-Senators-urging-them-to-oppose-the-conference-report-on-the-Customs-Bill-H.R.-644'"
      ]
     },
     "execution_count": 7,
     "metadata": {},
     "output_type": "execute_result"
    }
   ],
   "source": [
    "letters[0].a[\"href\"]"
   ]
  },
  {
   "cell_type": "code",
   "execution_count": 8,
   "metadata": {
    "collapsed": true
   },
   "outputs": [],
   "source": [
    "# But there's no URL!  It should be 'http://'!\n",
    "# So, let's do this --\n",
    "# store the site its on as a prefix\n",
    "\n",
    "prefix = \"www.aflcio.org\""
   ]
  },
  {
   "cell_type": "code",
   "execution_count": 9,
   "metadata": {
    "collapsed": true
   },
   "outputs": [],
   "source": [
    "# \"link\" is the 'key' to the value of the url, which we concatenate with the prefix, to produce a functional web address.\n",
    "# Store in dictionary lobbying all of the (anchor type 'href'/links), indexed with the key:link\n",
    "\n",
    "for element in letters:\n",
    "    lobbying[element.a.get_text()][\"link\"] = prefix + element.a[\"href\"]"
   ]
  },
  {
   "cell_type": "code",
   "execution_count": 10,
   "metadata": {
    "collapsed": false
   },
   "outputs": [
    {
     "data": {
      "text/plain": [
       "{u'Letter to Representatives in support of The Workplace Action for a Growing Economy Act': {'link': 'www.aflcio.org/Legislation-and-Politics/Legislative-Alerts/Letter-to-Representatives-in-support-of-The-Workplace-Action-for-a-Growing-Economy-Act'},\n",
       " u'Letter to Representatives opposing the \"Fairness in Class Action Litigation and Furthering Asbestos Claim Transparency Act\"': {'link': 'www.aflcio.org/Legislation-and-Politics/Legislative-Alerts/Letter-to-Representatives-opposing-the-Fairness-in-Class-Action-Litigation-and-Furthering-Asbestos-Claim-Transparency-Act'},\n",
       " u'Letter to Senators in support of the Workplace Action for a Growing Economy Act': {'link': 'www.aflcio.org/Legislation-and-Politics/Legislative-Alerts/Letter-to-Senators-in-support-of-the-Workplace-Action-for-a-Growing-Economy-Act'},\n",
       " u'Letter to Senators urging them to oppose the conference report on the Customs Bill (H.R. 644)': {'link': 'www.aflcio.org/Legislation-and-Politics/Legislative-Alerts/Letter-to-Senators-urging-them-to-oppose-the-conference-report-on-the-Customs-Bill-H.R.-644'}}"
      ]
     },
     "execution_count": 10,
     "metadata": {},
     "output_type": "execute_result"
    }
   ],
   "source": [
    "lobbying"
   ]
  },
  {
   "cell_type": "code",
   "execution_count": 11,
   "metadata": {
    "collapsed": false
   },
   "outputs": [
    {
     "data": {
      "text/plain": [
       "<div id=\"legalert_date\">February 09, 2016</div>"
      ]
     },
     "execution_count": 11,
     "metadata": {},
     "output_type": "execute_result"
    }
   ],
   "source": [
    "letters[0].find(id=\"legalert_date\")"
   ]
  },
  {
   "cell_type": "code",
   "execution_count": 14,
   "metadata": {
    "collapsed": true
   },
   "outputs": [],
   "source": [
    "# For every value in letters,\n",
    "\n",
    "for element in letters:\n",
    "    # set date to value.find(id=\"legalert_date\") -- which we can add to our next thing\n",
    "    date = element.find(id=\"legalert_date\")\n",
    "    # store the date in the dictionary lobbying  with the key 'date'\n",
    "    lobbying[element.a.get_text()][\"date\"] = date.get_text()"
   ]
  },
  {
   "cell_type": "code",
   "execution_count": 15,
   "metadata": {
    "collapsed": false
   },
   "outputs": [
    {
     "data": {
      "text/plain": [
       "{u'Letter to Representatives in support of The Workplace Action for a Growing Economy Act': {'date': u'January 07, 2016',\n",
       "  'link': 'www.aflcio.org/Legislation-and-Politics/Legislative-Alerts/Letter-to-Representatives-in-support-of-The-Workplace-Action-for-a-Growing-Economy-Act'},\n",
       " u'Letter to Representatives opposing the \"Fairness in Class Action Litigation and Furthering Asbestos Claim Transparency Act\"': {'date': u'January 05, 2016',\n",
       "  'link': 'www.aflcio.org/Legislation-and-Politics/Legislative-Alerts/Letter-to-Representatives-opposing-the-Fairness-in-Class-Action-Litigation-and-Furthering-Asbestos-Claim-Transparency-Act'},\n",
       " u'Letter to Senators in support of the Workplace Action for a Growing Economy Act': {'date': u'January 07, 2016',\n",
       "  'link': 'www.aflcio.org/Legislation-and-Politics/Legislative-Alerts/Letter-to-Senators-in-support-of-the-Workplace-Action-for-a-Growing-Economy-Act'},\n",
       " u'Letter to Senators urging them to oppose the conference report on the Customs Bill (H.R. 644)': {'date': u'February 09, 2016',\n",
       "  'link': 'www.aflcio.org/Legislation-and-Politics/Legislative-Alerts/Letter-to-Senators-urging-them-to-oppose-the-conference-report-on-the-Customs-Bill-H.R.-644'}}"
      ]
     },
     "execution_count": 15,
     "metadata": {},
     "output_type": "execute_result"
    }
   ],
   "source": [
    "lobbying"
   ]
  },
  {
   "cell_type": "code",
   "execution_count": 23,
   "metadata": {
    "collapsed": false
   },
   "outputs": [
    {
     "name": "stdout",
     "output_type": "stream",
     "text": [
      "Letter to Representatives in support of The Workplace Action for a Growing Economy Act : \n",
      "\tlink:  www.aflcio.org/Legislation-and-Politics/Legislative-Alerts/Letter-to-Representatives-in-support-of-The-Workplace-Action-for-a-Growing-Economy-Act : \n",
      "\tdate:  January 07, 2016 \n",
      "\n",
      "\n",
      "Letter to Senators urging them to oppose the conference report on the Customs Bill (H.R. 644) : \n",
      "\tlink:  www.aflcio.org/Legislation-and-Politics/Legislative-Alerts/Letter-to-Senators-urging-them-to-oppose-the-conference-report-on-the-Customs-Bill-H.R.-644 : \n",
      "\tdate:  February 09, 2016 \n",
      "\n",
      "\n",
      "Letter to Senators in support of the Workplace Action for a Growing Economy Act : \n",
      "\tlink:  www.aflcio.org/Legislation-and-Politics/Legislative-Alerts/Letter-to-Senators-in-support-of-the-Workplace-Action-for-a-Growing-Economy-Act : \n",
      "\tdate:  January 07, 2016 \n",
      "\n",
      "\n",
      "Letter to Representatives opposing the \"Fairness in Class Action Litigation and Furthering Asbestos Claim Transparency Act\" : \n",
      "\tlink:  www.aflcio.org/Legislation-and-Politics/Legislative-Alerts/Letter-to-Representatives-opposing-the-Fairness-in-Class-Action-Litigation-and-Furthering-Asbestos-Claim-Transparency-Act : \n",
      "\tdate:  January 05, 2016 \n",
      "\n",
      "\n"
     ]
    }
   ],
   "source": [
    "#makes the tidy list below\n",
    "for item in lobbying.keys():\n",
    "        print item,\": \\n\\tlink: \", lobbying[item][\"link\"],\": \\n\\tdate: \", lobbying[item][\"date\"],\"\\n\\n\""
   ]
  },
  {
   "cell_type": "code",
   "execution_count": 28,
   "metadata": {
    "collapsed": false
   },
   "outputs": [
    {
     "ename": "IOError",
     "evalue": "[Errno 13] Permission denied: 'data/lobbying.csv'",
     "output_type": "error",
     "traceback": [
      "\u001b[1;31m---------------------------------------------------------------------------\u001b[0m",
      "\u001b[1;31mIOError\u001b[0m                                   Traceback (most recent call last)",
      "\u001b[1;32m<ipython-input-28-953a4f2918ad>\u001b[0m in \u001b[0;36m<module>\u001b[1;34m()\u001b[0m\n\u001b[0;32m      1\u001b[0m \u001b[1;32mimport\u001b[0m \u001b[0mcsv\u001b[0m\u001b[1;33m\u001b[0m\u001b[0m\n\u001b[1;32m----> 2\u001b[1;33m \u001b[1;32mwith\u001b[0m \u001b[0mopen\u001b[0m\u001b[1;33m(\u001b[0m\u001b[1;34m\"data/lobbying.csv\"\u001b[0m\u001b[1;33m,\u001b[0m \u001b[1;34m\"w\"\u001b[0m\u001b[1;33m)\u001b[0m \u001b[1;32mas\u001b[0m \u001b[0mtoWrite\u001b[0m\u001b[1;33m:\u001b[0m\u001b[1;33m\u001b[0m\u001b[0m\n\u001b[0m\u001b[0;32m      3\u001b[0m     \u001b[0mwriter\u001b[0m \u001b[1;33m=\u001b[0m \u001b[0mcsv\u001b[0m\u001b[1;33m.\u001b[0m\u001b[0mwriter\u001b[0m\u001b[1;33m(\u001b[0m\u001b[0mtoWrite\u001b[0m\u001b[1;33m,\u001b[0m\u001b[0mdelimiter\u001b[0m\u001b[1;33m=\u001b[0m\u001b[1;34m\",\"\u001b[0m\u001b[1;33m)\u001b[0m\u001b[1;33m\u001b[0m\u001b[0m\n\u001b[0;32m      4\u001b[0m     \u001b[0mwriter\u001b[0m\u001b[1;33m.\u001b[0m\u001b[0mwriterow\u001b[0m\u001b[1;33m(\u001b[0m\u001b[1;33m[\u001b[0m\u001b[1;34m\"name\"\u001b[0m\u001b[1;33m,\u001b[0m\u001b[1;34m\"link\"\u001b[0m\u001b[1;33m,\u001b[0m\u001b[1;34m\"date\"\u001b[0m\u001b[1;33m]\u001b[0m\u001b[1;33m)\u001b[0m\u001b[1;33m\u001b[0m\u001b[0m\n\u001b[0;32m      5\u001b[0m     \u001b[1;32mfor\u001b[0m \u001b[0ma\u001b[0m \u001b[1;32min\u001b[0m \u001b[0mlobbying\u001b[0m\u001b[1;33m.\u001b[0m\u001b[0mkeys\u001b[0m\u001b[1;33m(\u001b[0m\u001b[1;33m)\u001b[0m\u001b[1;33m:\u001b[0m\u001b[1;33m\u001b[0m\u001b[0m\n",
      "\u001b[1;31mIOError\u001b[0m: [Errno 13] Permission denied: 'data/lobbying.csv'"
     ]
    }
   ],
   "source": [
    "# Using a module 'csv' -- which lets you work with comma separated value sheets\n",
    "#\n",
    "# open a file in the directory this program is in - 'data/lobbying.csv/', in write mode, \n",
    "# which will be referred to with the variable toWrite\n",
    "#\n",
    "# attribute to the variable writer the results of using the csv function writer to write into toWrite, with the \n",
    "# delimiter - separater - \",\"\n",
    "# perform on writer the method .writerow, with the values 'name', 'link', 'date'\n",
    "#\n",
    "# then for every value in lobbying.keys() - writerow to it, \n",
    "# encoding with utf-8 the anchor text, the value of 'link' and the value of 'date' \n",
    "#\n",
    "import csv\n",
    "with open(\"data/lobbying.csv\", \"w\") as toWrite:\n",
    "    writer = csv.writer(toWrite,delimiter=\",\")\n",
    "    writer.writerow([\"name\",\"link\",\"date\"])\n",
    "    for a in lobbying.keys():\n",
    "        writer.writerow([a.encode(\"utf-8\"), lobbying[a][\"link\"], lobbying[a][\"date\"]])"
   ]
  },
  {
   "cell_type": "code",
   "execution_count": null,
   "metadata": {
    "collapsed": true
   },
   "outputs": [],
   "source": []
  }
 ],
 "metadata": {
  "kernelspec": {
   "display_name": "Python 2",
   "language": "python",
   "name": "python2"
  },
  "language_info": {
   "codemirror_mode": {
    "name": "ipython",
    "version": 2
   },
   "file_extension": ".py",
   "mimetype": "text/x-python",
   "name": "python",
   "nbconvert_exporter": "python",
   "pygments_lexer": "ipython2",
   "version": "2.7.10"
  }
 },
 "nbformat": 4,
 "nbformat_minor": 0
}
