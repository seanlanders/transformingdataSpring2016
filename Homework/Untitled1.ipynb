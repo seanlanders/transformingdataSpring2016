{
 "cells": [
  {
   "cell_type": "code",
   "execution_count": 39,
   "metadata": {
    "collapsed": false
   },
   "outputs": [
    {
     "name": "stdout",
     "output_type": "stream",
     "text": [
      "Beth has spent approximately 364 summer days in Michigan, over the course of 35 years.\n",
      "That is 0 years, and 364 days of Michigan summers.\n"
     ]
    }
   ],
   "source": [
    "twoweeks = 18\n",
    "oneweeks = 35 - 19\n",
    "days = 0\n",
    "twoweeks = twoweeks * 2\n",
    "def howmanydays(week):\n",
    "    summerdays = 0\n",
    "    for i in range(0, week):\n",
    "        summerdays = summerdays + 7\n",
    "    return summerdays\n",
    "\n",
    "days = days + howmanydays(twoweeks)\n",
    "days = days + howmanydays(oneweeks)\n",
    "statement = \"Beth has spent approximately \" + str(days) + \" summer days in Michigan, over the course of 35 years.\"\n",
    "yearsinsummer = days / 365\n",
    "daysinsummer = days % 365\n",
    "breakdown = \"That is \" + str(yearsinsummer) + \" years, and \" + str(daysinsummer) + \" days of Michigan summers.\"\n",
    "\n",
    "\n",
    "print statement\n",
    "print breakdown"
   ]
  },
  {
   "cell_type": "code",
   "execution_count": null,
   "metadata": {
    "collapsed": true
   },
   "outputs": [],
   "source": []
  },
  {
   "cell_type": "code",
   "execution_count": null,
   "metadata": {
    "collapsed": true
   },
   "outputs": [],
   "source": []
  }
 ],
 "metadata": {
  "kernelspec": {
   "display_name": "Python 2",
   "language": "python",
   "name": "python2"
  },
  "language_info": {
   "codemirror_mode": {
    "name": "ipython",
    "version": 2
   },
   "file_extension": ".py",
   "mimetype": "text/x-python",
   "name": "python",
   "nbconvert_exporter": "python",
   "pygments_lexer": "ipython2",
   "version": "2.7.10"
  }
 },
 "nbformat": 4,
 "nbformat_minor": 0
}
