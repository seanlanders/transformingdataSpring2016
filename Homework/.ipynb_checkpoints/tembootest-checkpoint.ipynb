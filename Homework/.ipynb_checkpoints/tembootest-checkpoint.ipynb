{
 "cells": [
  {
   "cell_type": "code",
   "execution_count": 4,
   "metadata": {
    "collapsed": false
   },
   "outputs": [
    {
     "name": "stdout",
     "output_type": "stream",
     "text": [
      "Latitude: 40.7710709\n",
      "Longitude: -73.9680073\n",
      "Response: <?xml version=\"1.0\" encoding=\"UTF-8\"?>\n",
      "<GeocodeResponse>\n",
      " <status>OK</status>\n",
      " <result>\n",
      "  <type>street_address</type>\n",
      "  <formatted_address>890 5th Ave, New York, NY 10021, USA</formatted_address>\n",
      "  <address_component>\n",
      "   <long_name>890</long_name>\n",
      "   <short_name>890</short_name>\n",
      "   <type>street_number</type>\n",
      "  </address_component>\n",
      "  <address_component>\n",
      "   <long_name>5th Avenue</long_name>\n",
      "   <short_name>5th Ave</short_name>\n",
      "   <type>route</type>\n",
      "  </address_component>\n",
      "  <address_component>\n",
      "   <long_name>Upper East Side</long_name>\n",
      "   <short_name>UES</short_name>\n",
      "   <type>neighborhood</type>\n",
      "   <type>political</type>\n",
      "  </address_component>\n",
      "  <address_component>\n",
      "   <long_name>Manhattan</long_name>\n",
      "   <short_name>Manhattan</short_name>\n",
      "   <type>sublocality_level_1</type>\n",
      "   <type>sublocality</type>\n",
      "   <type>political</type>\n",
      "  </address_component>\n",
      "  <address_component>\n",
      "   <long_name>New York</long_name>\n",
      "   <short_name>New York</short_name>\n",
      "   <type>locality</type>\n",
      "   <type>political</type>\n",
      "  </address_component>\n",
      "  <address_component>\n",
      "   <long_name>New York County</long_name>\n",
      "   <short_name>New York County</short_name>\n",
      "   <type>administrative_area_level_2</type>\n",
      "   <type>political</type>\n",
      "  </address_component>\n",
      "  <address_component>\n",
      "   <long_name>New York</long_name>\n",
      "   <short_name>NY</short_name>\n",
      "   <type>administrative_area_level_1</type>\n",
      "   <type>political</type>\n",
      "  </address_component>\n",
      "  <address_component>\n",
      "   <long_name>United States</long_name>\n",
      "   <short_name>US</short_name>\n",
      "   <type>country</type>\n",
      "   <type>political</type>\n",
      "  </address_component>\n",
      "  <address_component>\n",
      "   <long_name>10021</long_name>\n",
      "   <short_name>10021</short_name>\n",
      "   <type>postal_code</type>\n",
      "  </address_component>\n",
      "  <geometry>\n",
      "   <location>\n",
      "    <lat>40.7710709</lat>\n",
      "    <lng>-73.9680073</lng>\n",
      "   </location>\n",
      "   <location_type>RANGE_INTERPOLATED</location_type>\n",
      "   <viewport>\n",
      "    <southwest>\n",
      "     <lat>40.7697254</lat>\n",
      "     <lng>-73.9693645</lng>\n",
      "    </southwest>\n",
      "    <northeast>\n",
      "     <lat>40.7724234</lat>\n",
      "     <lng>-73.9666665</lng>\n",
      "    </northeast>\n",
      "   </viewport>\n",
      "   <bounds>\n",
      "    <southwest>\n",
      "     <lat>40.7710709</lat>\n",
      "     <lng>-73.9680237</lng>\n",
      "    </southwest>\n",
      "    <northeast>\n",
      "     <lat>40.7710779</lat>\n",
      "     <lng>-73.9680073</lng>\n",
      "    </northeast>\n",
      "   </bounds>\n",
      "  </geometry>\n",
      "  <partial_match>true</partial_match>\n",
      "  <place_id>EiQ4OTAgNXRoIEF2ZSwgTmV3IFlvcmssIE5ZIDEwMDIxLCBVU0E</place_id>\n",
      " </result>\n",
      "</GeocodeResponse>\n",
      "\n"
     ]
    }
   ],
   "source": [
    "from temboo.Library.Google.Geocoding import GeocodeByAddress\n",
    "from temboo.core.session import TembooSession\n",
    "\n",
    "# Create a session with your Temboo account details\n",
    "session = TembooSession(\"seanlanders\", \"myFirstApp\", \"hqUVahpdHRTLIe97xFUEHH3TZxCQcaiV\")\n",
    "\n",
    "# Instantiate the Choreo\n",
    "geocodeByAddressChoreo = GeocodeByAddress(session)\n",
    "\n",
    "# Get an InputSet object for the Choreo\n",
    "geocodeByAddressInputs = geocodeByAddressChoreo.new_input_set()\n",
    "\n",
    "# Set the Choreo inputs\n",
    "geocodeByAddressInputs.set_Address(\"890 Fifth Avenue, Manhattan, New York City\")\n",
    "\n",
    "# Execute the Choreo\n",
    "geocodeByAddressResults = geocodeByAddressChoreo.execute_with_results(geocodeByAddressInputs)\n",
    "\n",
    "# Print the Choreo outputs\n",
    "latitude = geocodeByAddressResults.get_Latitude()\n",
    "longitude = geocodeByAddressResults.get_Longitude()\n",
    "print(\"Latitude: \" + geocodeByAddressResults.get_Latitude())\n",
    "print(\"Longitude: \" + geocodeByAddressResults.get_Longitude())\n",
    "print(\"Response: \" + geocodeByAddressResults.get_Response())"
   ]
  },
  {
   "cell_type": "code",
   "execution_count": 6,
   "metadata": {
    "collapsed": false
   },
   "outputs": [
    {
     "name": "stdout",
     "output_type": "stream",
     "text": [
      "CensusID: 3611312\n",
      "Response: <?xml version=\"1.0\" encoding=\"UTF-8\" standalone=\"yes\"?><Response status=\"OK\" responseTime=\"15\"><Results><congressionalDistrict><envelope><maxx>-73.906924</maxx><maxy>40.80401499906664</maxy><minx>-74.002523</minx><miny>40.71116799906709</miny></envelope><geographyType>CONGRESSIONAL_DISTRICT_2010</geographyType><statefips>36</statefips><name>Congressional District 12</name><districtId>12</districtId><fips>3611312</fips></congressionalDistrict></Results></Response>\n"
     ]
    }
   ],
   "source": [
    "from temboo.Library.DataGov import GetCensusIDByCoordinates\n",
    "from temboo.core.session import TembooSession\n",
    "\n",
    "# Create a session with your Temboo account details\n",
    "session = TembooSession(\"seanlanders\", \"myFirstApp\", \"hqUVahpdHRTLIe97xFUEHH3TZxCQcaiV\")\n",
    "\n",
    "# Instantiate the Choreo\n",
    "getCensusIDByCoordinatesChoreo = GetCensusIDByCoordinates(session)\n",
    "\n",
    "# Get an InputSet object for the Choreo\n",
    "getCensusIDByCoordinatesInputs = getCensusIDByCoordinatesChoreo.new_input_set()\n",
    "\n",
    "# Set the Choreo inputs\n",
    "getCensusIDByCoordinatesInputs.set_GeographyType(\"congdistrict\")\n",
    "getCensusIDByCoordinatesInputs.set_Latitude(latitude)\n",
    "getCensusIDByCoordinatesInputs.set_Longitude(longitude)\n",
    "\n",
    "# Execute the Choreo\n",
    "getCensusIDByCoordinatesResults = getCensusIDByCoordinatesChoreo.execute_with_results(getCensusIDByCoordinatesInputs)\n",
    "\n",
    "# Print the Choreo outputs\n",
    "print(\"CensusID: \" + getCensusIDByCoordinatesResults.get_CensusID())\n",
    "print(\"Response: \" + getCensusIDByCoordinatesResults.get_Response())"
   ]
  },
  {
   "cell_type": "code",
   "execution_count": null,
   "metadata": {
    "collapsed": true
   },
   "outputs": [],
   "source": []
  }
 ],
 "metadata": {
  "kernelspec": {
   "display_name": "Python 2",
   "language": "python",
   "name": "python2"
  },
  "language_info": {
   "codemirror_mode": {
    "name": "ipython",
    "version": 2
   },
   "file_extension": ".py",
   "mimetype": "text/x-python",
   "name": "python",
   "nbconvert_exporter": "python",
   "pygments_lexer": "ipython2",
   "version": "2.7.10"
  }
 },
 "nbformat": 4,
 "nbformat_minor": 0
}
